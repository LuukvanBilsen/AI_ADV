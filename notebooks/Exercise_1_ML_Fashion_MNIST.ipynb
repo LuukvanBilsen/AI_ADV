{
 "cells": [
  {
   "attachments": {},
   "cell_type": "markdown",
   "metadata": {},
   "source": [
    "# [ML - Exercise](https://fhict.instructure.com/courses/13057/assignments/219946?module_item_id=921371)\n",
    "\n",
    "\n",
    "Fashion-MNIST Links to an external site.is a dataset of Zalando's article images—consisting of a training set of 60,000 examples and a test set of 10,000 examples. Each example is a 28x28 grayscale image, associated with a label from 10 classes.\n",
    "\n",
    "Here's an example how the data looks (each class takes three-rows):\n",
    "\n",
    "![fashion-mnist-sprite.png](../Images/fashion-mnist-sprite.png)\n",
    "\n",
    "<!-- <img src=\"../Images/fashion-mnist-sprite.png\" width=\"800\" height=\"400\">  -->\n",
    "\n",
    "### Part 1 Modelling, PCA and evaluation\n",
    "\n",
    "1. Load the dataset and split into a training set and test set. and split it into a training set and a test set.\n",
    "2. Train a Random Forest classifier on the dataset and time how long it takes, then evaluate the resulting model on the test set.\n",
    "3. Next, use PCA to reduce the dataset's dimensionality (with an explained variance ratio of 95%).\n",
    "4. Train a new Random Forest classifier on the reduced dataset and measure how long it takes.\n",
    "5. Was training much faster?\n",
    "6. Evaluate the classifier on the test set: how does it compare to the previous classifier?\n",
    "7. Apply softmax regression (using the original dataset) and time how long it takes, then evaluate the resulting model on the test set.\n",
    "8. Apply softmax regression (using the reduced dataset) and time how long it takes, then evaluate the resulting model on the test set.\n",
    "9. What can you conclude from the results?\n",
    "\n",
    "\n",
    "### Part 2. Visualisation\n",
    "\n",
    "1. Use t-SNE to reduce the MNIST dataset down to two dimensions and plot the result using Matplotlib. Use dimensionality on a random subset of 12,500 images.\n",
    "2. Plot a scatterplot using different colours for each class.\n",
    "3. What can you conclude?\n",
    "4. Now try t-SNE for a combination of 3 labels: sneaker, bag and t-shirt"
   ]
  },
  {
   "attachments": {},
   "cell_type": "markdown",
   "metadata": {},
   "source": [
    "#################################################################\n",
    "\n",
    "# Code\n"
   ]
  },
  {
   "cell_type": "markdown",
   "metadata": {},
   "source": [
    "\n",
    "### Imports"
   ]
  },
  {
   "cell_type": "code",
   "execution_count": 2,
   "metadata": {},
   "outputs": [
    {
     "name": "stdout",
     "output_type": "stream",
     "text": [
      "2.11.0\n",
      "2.11.0\n",
      "3.7.0\n",
      "1.5.3\n",
      "1.24.2\n",
      "1.2.1\n",
      "0.12.2\n"
     ]
    }
   ],
   "source": [
    "import tensorflow as tf\n",
    "from tensorflow import keras\n",
    "\n",
    "import pandas as pd\n",
    "\n",
    "import matplotlib\n",
    "from matplotlib import pyplot as plt\n",
    "\n",
    "import numpy as np\n",
    "\n",
    "import sklearn as sk\n",
    "from sklearn import tree\n",
    "from sklearn import ensemble\n",
    "from sklearn import decomposition\n",
    "from sklearn import linear_model \n",
    "from sklearn import manifold \n",
    "\n",
    "import seaborn as sns\n",
    "\n",
    "from sklearn.metrics import accuracy_score\n",
    "\n",
    "######################\n",
    "\n",
    "print(tf.__version__)\n",
    "print(keras.__version__)\n",
    "print(matplotlib.__version__)\n",
    "print(pd.__version__)\n",
    "print(np.__version__)\n",
    "print(sk.__version__)\n",
    "print(sns.__version__)"
   ]
  },
  {
   "cell_type": "code",
   "execution_count": 3,
   "metadata": {},
   "outputs": [],
   "source": [
    "(x_train, y_train), (x_test, y_test) = tf.keras.datasets.fashion_mnist.load_data()\n",
    "\n",
    "assert x_train.shape == (60000, 28, 28)\n",
    "assert x_test.shape == (10000, 28, 28)\n",
    "assert y_train.shape == (60000,)\n",
    "assert y_test.shape == (10000,)"
   ]
  },
  {
   "cell_type": "code",
   "execution_count": 4,
   "metadata": {},
   "outputs": [],
   "source": [
    "x_train_items, train_item_w, train_item_h = x_train.shape\n",
    "x_train_reshaped = x_train.reshape((x_train_items, train_item_w * train_item_h))\n",
    "\n",
    "\n",
    "x_test_items, test_item_w, test_item_h = x_test.shape\n",
    "x_test_reshaped = x_test.reshape((x_test_items, test_item_w * test_item_h))"
   ]
  },
  {
   "attachments": {},
   "cell_type": "markdown",
   "metadata": {},
   "source": [
    "#### Decision Tree (extra)"
   ]
  },
  {
   "cell_type": "code",
   "execution_count": 4,
   "metadata": {},
   "outputs": [
    {
     "data": {
      "text/plain": [
       "DecisionTreeClassifier()"
      ]
     },
     "execution_count": 4,
     "metadata": {},
     "output_type": "execute_result"
    }
   ],
   "source": [
    "clf = tree.DecisionTreeClassifier()\n",
    "clf.fit(x_train_reshaped, y_train)"
   ]
  },
  {
   "cell_type": "code",
   "execution_count": 5,
   "metadata": {},
   "outputs": [
    {
     "data": {
      "text/plain": [
       "0.7881"
      ]
     },
     "execution_count": 5,
     "metadata": {},
     "output_type": "execute_result"
    }
   ],
   "source": [
    "pred = clf.predict(x_test_reshaped)\n",
    "acc = accuracy_score(pred, y_test)\n",
    "acc"
   ]
  },
  {
   "attachments": {},
   "cell_type": "markdown",
   "metadata": {},
   "source": [
    "## Part 1\n",
    "\n",
    "#### Models\n"
   ]
  },
  {
   "cell_type": "markdown",
   "metadata": {},
   "source": [
    "\n",
    "##### Forest with no PCA reduction"
   ]
  },
  {
   "cell_type": "code",
   "execution_count": 6,
   "metadata": {},
   "outputs": [],
   "source": [
    "x_train_items, train_item_w, train_item_h = x_train.shape\n",
    "x_train_reshaped = x_train.reshape((x_train_items, train_item_w * train_item_h))\n",
    "\n",
    "\n",
    "x_test_items, test_item_w, test_item_h = x_test.shape\n",
    "x_test_reshaped = x_test.reshape((x_test_items, test_item_w * test_item_h))\n"
   ]
  },
  {
   "cell_type": "code",
   "execution_count": 7,
   "metadata": {},
   "outputs": [
    {
     "data": {
      "text/plain": [
       "RandomForestClassifier()"
      ]
     },
     "execution_count": 7,
     "metadata": {},
     "output_type": "execute_result"
    }
   ],
   "source": [
    "#%%time\n",
    "clf = ensemble.RandomForestClassifier()\n",
    "\n",
    "clf.fit(x_train_reshaped, y_train)"
   ]
  },
  {
   "cell_type": "code",
   "execution_count": 8,
   "metadata": {},
   "outputs": [
    {
     "data": {
      "text/plain": [
       "0.8785"
      ]
     },
     "execution_count": 8,
     "metadata": {},
     "output_type": "execute_result"
    }
   ],
   "source": [
    "pred = clf.predict(x_test_reshaped)\n",
    "acc = accuracy_score(pred, y_test)\n",
    "acc\n"
   ]
  },
  {
   "attachments": {},
   "cell_type": "markdown",
   "metadata": {},
   "source": [
    "##### PCA reduction"
   ]
  },
  {
   "cell_type": "code",
   "execution_count": 9,
   "metadata": {},
   "outputs": [
    {
     "name": "stdout",
     "output_type": "stream",
     "text": [
      "[0.29039228 0.46794538 0.5281376  0.57771188 0.61618843 0.65079612\n",
      " 0.67421303 0.69326717 0.7067656  0.71990827 0.72983702 0.73896957\n",
      " 0.7466275  0.75322455 0.75930306 0.76520127 0.77072062 0.77596562\n",
      " 0.7805464  0.78510155 0.78943839 0.79350936 0.79735694 0.80108246\n",
      " 0.80469352 0.80820008 0.8115325  0.81472609 0.81780672 0.82073945\n",
      " 0.82349548 0.8261461  0.82878313 0.83134148 0.83380361 0.83616262\n",
      " 0.83846552 0.84072074 0.8429055  0.84499874 0.84700157 0.84895896\n",
      " 0.85090586 0.85273369 0.85448723 0.85620649 0.85789441 0.85953416\n",
      " 0.86114324 0.8626917  0.86421465 0.8657151  0.86718305 0.86861617\n",
      " 0.86999894 0.87136891 0.87268046 0.87396892 0.87524141 0.87649992\n",
      " 0.87771445 0.87891643 0.88009786 0.88126044 0.88241627 0.88353922\n",
      " 0.88464997 0.88574666 0.88679794 0.88784453 0.88887554 0.88988605\n",
      " 0.890864   0.89182089 0.89276004 0.89369387 0.89461917 0.89552173\n",
      " 0.89641498 0.8972868  0.89814088 0.89898378 0.89980892 0.90062313\n",
      " 0.90142826 0.90222577 0.90300219 0.90377166 0.90453547 0.90528757\n",
      " 0.90603612 0.90677642 0.90750676 0.90822643 0.90894075 0.90964351\n",
      " 0.91034073 0.91101892 0.91168752 0.91234876 0.91299853 0.91363961\n",
      " 0.91427818 0.91490857 0.91553085 0.91614978 0.91675492 0.91734975\n",
      " 0.91794045 0.91852763 0.91910568 0.91967817 0.92023923 0.92079405\n",
      " 0.92134764 0.92189248 0.92242968 0.92296515 0.92349685 0.92401938\n",
      " 0.92453092 0.92503698 0.92553514 0.92602882 0.92652001 0.92700806\n",
      " 0.92748997 0.92796843 0.92844269 0.92891104 0.92937607 0.92983997\n",
      " 0.93029688 0.9307516  0.93120229 0.93165001 0.93209151 0.93252734\n",
      " 0.93296016 0.93338999 0.93381889 0.93424247 0.93466591 0.93508212\n",
      " 0.93549697 0.93590342 0.93630595 0.93670193 0.93709668 0.93748771\n",
      " 0.93787767 0.93826451 0.93864638 0.93902521 0.93939964 0.93977232\n",
      " 0.94014283 0.94051143 0.94087946 0.94124336 0.94160404 0.94196188\n",
      " 0.94231422 0.942665   0.94301352 0.94335807 0.94369759 0.94403369\n",
      " 0.9443692  0.94470029 0.94503075 0.94535793 0.94568259 0.94600556\n",
      " 0.94632506 0.94664403 0.94696122 0.94727387 0.9475844  0.94789365\n",
      " 0.94820067 0.94850708 0.94881124 0.9491129  0.94941233 0.949709\n",
      " 0.95000391]\n"
     ]
    }
   ],
   "source": [
    "pca = decomposition.PCA(n_components=0.95, svd_solver='full')\n",
    "pca.fit(x_train_reshaped)\n",
    "\n",
    "x_train_pca =  pca.transform(x_train_reshaped)\n",
    "\n",
    "print (pca.explained_variance_ratio_.cumsum())\n",
    "\n",
    "\n",
    "#https://scikit-learn.org/stable/modules/generated/sklearn.decomposition.PCA.html\n",
    "#\n",
    "# if 0 < n_components < 1 and svd_solver == ‘full’, \n",
    "# select the number of components such that the amount of variance \n",
    "# that needs to be explained is greater than the percentage specified by n_components"
   ]
  },
  {
   "attachments": {},
   "cell_type": "markdown",
   "metadata": {},
   "source": [
    "##### Forest with PCA reduction"
   ]
  },
  {
   "cell_type": "code",
   "execution_count": 10,
   "metadata": {},
   "outputs": [
    {
     "data": {
      "text/plain": [
       "RandomForestClassifier()"
      ]
     },
     "execution_count": 10,
     "metadata": {},
     "output_type": "execute_result"
    }
   ],
   "source": [
    "clf_reduc = ensemble.RandomForestClassifier()\n",
    "clf_reduc.fit(x_train_pca, y_train)"
   ]
  },
  {
   "cell_type": "code",
   "execution_count": 11,
   "metadata": {},
   "outputs": [],
   "source": [
    "x_test_pca =  pca.transform(x_test_reshaped)"
   ]
  },
  {
   "cell_type": "code",
   "execution_count": 12,
   "metadata": {},
   "outputs": [
    {
     "data": {
      "text/plain": [
       "0.8587"
      ]
     },
     "execution_count": 12,
     "metadata": {},
     "output_type": "execute_result"
    }
   ],
   "source": [
    "pred_reduc = clf_reduc.predict(x_test_pca)\n",
    "acc_reduc = accuracy_score(pred_reduc, y_test)\n",
    "acc_reduc"
   ]
  },
  {
   "attachments": {},
   "cell_type": "markdown",
   "metadata": {},
   "source": [
    "##### Softmax"
   ]
  },
  {
   "cell_type": "code",
   "execution_count": 13,
   "metadata": {},
   "outputs": [
    {
     "name": "stderr",
     "output_type": "stream",
     "text": [
      "c:\\Users\\luukv\\Anaconda3\\lib\\site-packages\\sklearn\\linear_model\\_logistic.py:814: ConvergenceWarning: lbfgs failed to converge (status=1):\n",
      "STOP: TOTAL NO. of ITERATIONS REACHED LIMIT.\n",
      "\n",
      "Increase the number of iterations (max_iter) or scale the data as shown in:\n",
      "    https://scikit-learn.org/stable/modules/preprocessing.html\n",
      "Please also refer to the documentation for alternative solver options:\n",
      "    https://scikit-learn.org/stable/modules/linear_model.html#logistic-regression\n",
      "  n_iter_i = _check_optimize_result(\n"
     ]
    },
    {
     "data": {
      "text/plain": [
       "LogisticRegression()"
      ]
     },
     "execution_count": 13,
     "metadata": {},
     "output_type": "execute_result"
    }
   ],
   "source": [
    "clf_softmax = linear_model.LogisticRegression()\n",
    "\n",
    "clf_softmax.fit(x_train_reshaped, y_train)"
   ]
  },
  {
   "cell_type": "code",
   "execution_count": 14,
   "metadata": {},
   "outputs": [
    {
     "data": {
      "text/plain": [
       "0.8412"
      ]
     },
     "execution_count": 14,
     "metadata": {},
     "output_type": "execute_result"
    }
   ],
   "source": [
    "pred_softmax = clf_softmax.predict(x_test_reshaped)\n",
    "acc_softmax = accuracy_score(pred_softmax, y_test)\n",
    "acc_softmax\n"
   ]
  },
  {
   "attachments": {},
   "cell_type": "markdown",
   "metadata": {},
   "source": [
    "##### Softmax with PCA"
   ]
  },
  {
   "cell_type": "code",
   "execution_count": 15,
   "metadata": {},
   "outputs": [
    {
     "name": "stderr",
     "output_type": "stream",
     "text": [
      "c:\\Users\\luukv\\Anaconda3\\lib\\site-packages\\sklearn\\linear_model\\_logistic.py:814: ConvergenceWarning: lbfgs failed to converge (status=1):\n",
      "STOP: TOTAL NO. of ITERATIONS REACHED LIMIT.\n",
      "\n",
      "Increase the number of iterations (max_iter) or scale the data as shown in:\n",
      "    https://scikit-learn.org/stable/modules/preprocessing.html\n",
      "Please also refer to the documentation for alternative solver options:\n",
      "    https://scikit-learn.org/stable/modules/linear_model.html#logistic-regression\n",
      "  n_iter_i = _check_optimize_result(\n"
     ]
    },
    {
     "data": {
      "text/plain": [
       "LogisticRegression()"
      ]
     },
     "execution_count": 15,
     "metadata": {},
     "output_type": "execute_result"
    }
   ],
   "source": [
    "clf_softmax_pca = linear_model.LogisticRegression()\n",
    "\n",
    "clf_softmax_pca.fit(x_train_pca, y_train)"
   ]
  },
  {
   "cell_type": "code",
   "execution_count": 16,
   "metadata": {},
   "outputs": [
    {
     "data": {
      "text/plain": [
       "0.8425"
      ]
     },
     "execution_count": 16,
     "metadata": {},
     "output_type": "execute_result"
    }
   ],
   "source": [
    "pred_softmax_pca = clf_softmax_pca.predict(x_test_pca)\n",
    "acc_softmax_pca = accuracy_score(pred_softmax_pca, y_test)\n",
    "acc_softmax_pca"
   ]
  },
  {
   "attachments": {},
   "cell_type": "markdown",
   "metadata": {},
   "source": [
    "### Answers\n"
   ]
  },
  {
   "attachments": {},
   "cell_type": "markdown",
   "metadata": {},
   "source": [
    "\n",
    "5. Was training much faster? (Random forest with PCA vs Random forest without)\n",
    "\n",
    "ANS\n",
    "\n",
    "6. Evaluate the classifier on the test set: how does it compare to the previous classifier? (Random forest with PCA vs Random forest without)\n",
    "\n",
    "ANS\n",
    "\n",
    "9. What can you conclude from the results? (softmax with PCA vs softmax without PCA)\n",
    "\n",
    "ANS\n"
   ]
  },
  {
   "attachments": {},
   "cell_type": "markdown",
   "metadata": {},
   "source": [
    "## Part 2\n"
   ]
  },
  {
   "cell_type": "markdown",
   "metadata": {},
   "source": [
    "\n",
    "### Visualizations"
   ]
  },
  {
   "cell_type": "code",
   "execution_count": 5,
   "metadata": {},
   "outputs": [],
   "source": [
    "# X = np.array([[0, 0, 0], [0, 1, 1], [1, 0, 1], [1, 1, 1]])\n",
    "# X_embedded = manifold.TSNE(n_components=2, learning_rate='auto', init='random', perplexity=3).fit_transform(X)\n",
    "\n",
    "# print(X.shape)\n",
    "# print(X_embedded.shape)\n",
    "# print(\"---------\")\n"
   ]
  },
  {
   "cell_type": "code",
   "execution_count": 6,
   "metadata": {},
   "outputs": [
    {
     "name": "stdout",
     "output_type": "stream",
     "text": [
      "(12500, 785)\n",
      "(12500, 784)\n",
      "(12500,)\n"
     ]
    }
   ],
   "source": [
    "x_train_comb = np.column_stack((x_train_reshaped, y_train))\n",
    "\n",
    "x_train_sub = x_train_comb[np.random.choice(x_train_comb.shape[0], 12500, replace=False)]\n",
    "\n",
    "print(x_train_sub.shape)\n",
    "\n",
    "y_train_sub = x_train_sub[0:12500, -1]\n",
    "\n",
    "x_train_sub = x_train_sub[0:12500, 0:784]\n",
    "\n",
    "print(x_train_sub.shape)\n",
    "print(y_train_sub.shape)"
   ]
  },
  {
   "cell_type": "code",
   "execution_count": 7,
   "metadata": {},
   "outputs": [
    {
     "name": "stdout",
     "output_type": "stream",
     "text": [
      "(12500, 2)\n",
      "[[-4.0897626e-02  5.9569088e+01]\n",
      " [ 4.5814255e+01  1.1377185e+01]\n",
      " [-7.3462152e+00  6.4421371e+01]\n",
      " ...\n",
      " [ 1.6747831e+01 -6.9041672e+01]\n",
      " [ 1.7356140e+01  1.3633563e+01]\n",
      " [ 5.3777740e+01 -3.6701427e+00]]\n"
     ]
    }
   ],
   "source": [
    "x_train_embedded = manifold.TSNE(n_components=2, learning_rate='auto', init='random').fit_transform(x_train_sub)\n",
    "print(x_train_embedded.shape)\n",
    "print(x_train_embedded)"
   ]
  },
  {
   "cell_type": "code",
   "execution_count": 8,
   "metadata": {},
   "outputs": [
    {
     "data": {
      "text/html": [
       "<div>\n",
       "<style scoped>\n",
       "    .dataframe tbody tr th:only-of-type {\n",
       "        vertical-align: middle;\n",
       "    }\n",
       "\n",
       "    .dataframe tbody tr th {\n",
       "        vertical-align: top;\n",
       "    }\n",
       "\n",
       "    .dataframe thead th {\n",
       "        text-align: right;\n",
       "    }\n",
       "</style>\n",
       "<table border=\"1\" class=\"dataframe\">\n",
       "  <thead>\n",
       "    <tr style=\"text-align: right;\">\n",
       "      <th></th>\n",
       "      <th>Column_A</th>\n",
       "      <th>Column_B</th>\n",
       "      <th>Type</th>\n",
       "    </tr>\n",
       "  </thead>\n",
       "  <tbody>\n",
       "    <tr>\n",
       "      <th>0</th>\n",
       "      <td>-0.040898</td>\n",
       "      <td>59.569088</td>\n",
       "      <td>9.0</td>\n",
       "    </tr>\n",
       "    <tr>\n",
       "      <th>1</th>\n",
       "      <td>45.814255</td>\n",
       "      <td>11.377185</td>\n",
       "      <td>6.0</td>\n",
       "    </tr>\n",
       "    <tr>\n",
       "      <th>2</th>\n",
       "      <td>-7.346215</td>\n",
       "      <td>64.421371</td>\n",
       "      <td>9.0</td>\n",
       "    </tr>\n",
       "    <tr>\n",
       "      <th>3</th>\n",
       "      <td>3.242379</td>\n",
       "      <td>-29.862913</td>\n",
       "      <td>6.0</td>\n",
       "    </tr>\n",
       "    <tr>\n",
       "      <th>4</th>\n",
       "      <td>33.667553</td>\n",
       "      <td>8.059603</td>\n",
       "      <td>4.0</td>\n",
       "    </tr>\n",
       "    <tr>\n",
       "      <th>...</th>\n",
       "      <td>...</td>\n",
       "      <td>...</td>\n",
       "      <td>...</td>\n",
       "    </tr>\n",
       "    <tr>\n",
       "      <th>12495</th>\n",
       "      <td>16.466156</td>\n",
       "      <td>29.285561</td>\n",
       "      <td>8.0</td>\n",
       "    </tr>\n",
       "    <tr>\n",
       "      <th>12496</th>\n",
       "      <td>3.507716</td>\n",
       "      <td>2.300944</td>\n",
       "      <td>6.0</td>\n",
       "    </tr>\n",
       "    <tr>\n",
       "      <th>12497</th>\n",
       "      <td>16.747831</td>\n",
       "      <td>-69.041672</td>\n",
       "      <td>0.0</td>\n",
       "    </tr>\n",
       "    <tr>\n",
       "      <th>12498</th>\n",
       "      <td>17.356140</td>\n",
       "      <td>13.633563</td>\n",
       "      <td>2.0</td>\n",
       "    </tr>\n",
       "    <tr>\n",
       "      <th>12499</th>\n",
       "      <td>53.777740</td>\n",
       "      <td>-3.670143</td>\n",
       "      <td>2.0</td>\n",
       "    </tr>\n",
       "  </tbody>\n",
       "</table>\n",
       "<p>12500 rows × 3 columns</p>\n",
       "</div>"
      ],
      "text/plain": [
       "        Column_A   Column_B  Type\n",
       "0      -0.040898  59.569088   9.0\n",
       "1      45.814255  11.377185   6.0\n",
       "2      -7.346215  64.421371   9.0\n",
       "3       3.242379 -29.862913   6.0\n",
       "4      33.667553   8.059603   4.0\n",
       "...          ...        ...   ...\n",
       "12495  16.466156  29.285561   8.0\n",
       "12496   3.507716   2.300944   6.0\n",
       "12497  16.747831 -69.041672   0.0\n",
       "12498  17.356140  13.633563   2.0\n",
       "12499  53.777740  -3.670143   2.0\n",
       "\n",
       "[12500 rows x 3 columns]"
      ]
     },
     "execution_count": 8,
     "metadata": {},
     "output_type": "execute_result"
    }
   ],
   "source": [
    "x_train_comb = np.column_stack((x_train_embedded, y_train_sub))\n",
    "\n",
    "df = pd.DataFrame(x_train_comb, columns = ['Column_A','Column_B','Type'])\n",
    "df"
   ]
  },
  {
   "cell_type": "code",
   "execution_count": 9,
   "metadata": {},
   "outputs": [
    {
     "data": {
      "image/png": "[encoded data removed]",
      "text/plain": [
       "<Figure size 640x480 with 1 Axes>"
      ]
     },
     "metadata": {},
     "output_type": "display_data"
    }
   ],
   "source": [
    "X = x_train_comb[:,0]\n",
    "Y = x_train_comb[:,1]\n",
    "\n",
    "plt.scatter(df['Column_A'][df.Type == 1.0],\n",
    "            df['Column_B'][df.Type == 1.0],\n",
    "           color='red',\n",
    "           label='item 1')\n",
    "plt.scatter(df['Column_A'][df.Type == 2.0],\n",
    "            df['Column_B'][df.Type == 2.0],\n",
    "           color='blue',\n",
    "           label='item 2')\n",
    "plt.scatter(df['Column_A'][df.Type == 3.0],\n",
    "            df['Column_B'][df.Type == 3.0],\n",
    "           color='green',\n",
    "           label='item 3')\n",
    "plt.scatter(df['Column_A'][df.Type == 4.0],\n",
    "            df['Column_B'][df.Type == 4.0],\n",
    "           color='yellow',\n",
    "           label='item 4')\n",
    "plt.scatter(df['Column_A'][df.Type == 5.0],\n",
    "            df['Column_B'][df.Type == 5.0],\n",
    "           color='purple',\n",
    "           label='item 5')\n",
    "plt.scatter(df['Column_A'][df.Type == 6.0],\n",
    "            df['Column_B'][df.Type == 6.0],\n",
    "           color='grey',\n",
    "           label='item 6')\n",
    "plt.scatter(df['Column_A'][df.Type == 7.0],\n",
    "            df['Column_B'][df.Type == 7.0],\n",
    "           color='black',\n",
    "           label='item 7')\n",
    "plt.scatter(df['Column_A'][df.Type == 8.0],\n",
    "            df['Column_B'][df.Type == 8.0],\n",
    "           color='cyan',\n",
    "           label='item 8')\n",
    "plt.scatter(df['Column_A'][df.Type == 9.0],\n",
    "            df['Column_B'][df.Type == 9.0],\n",
    "           color='magenta',\n",
    "           label='item 9')\n",
    " \n",
    "#plt.figure()\n",
    "#plt.scatter(X, Y)\n",
    "\n",
    "plt.legend()\n",
    "plt.rcParams[\"figure.figsize\"] = (20,3)\n",
    "plt.show()"
   ]
  },
  {
   "attachments": {},
   "cell_type": "markdown",
   "metadata": {},
   "source": [
    "# Appendix\n"
   ]
  },
  {
   "attachments": {},
   "cell_type": "markdown",
   "metadata": {},
   "source": [
    "\n",
    "## Issues\n",
    "\n",
    "- Import, import on fashion_MNIST didnt work, resolved by looking at TensorFlow documentation where a working import was found. ()\n",
    "\n",
    "- Shape of dataset doesnt work for DecisionTreeClassifier. Resolved by reshaping the train_x and test_x from (28, 28) to (784).  \n",
    "\n",
    "- Error on manifold.TSNE: `UFuncTypeError: ufunc 'multiply' did not contain a loop with signature matching types (dtype('<U32'), dtype('<U32')) -> dtype('<U32')` was caused by sk version 0.24.1, had newer version on laptop (1.0.2) after upgrading on desktop it worked fine.\n"
   ]
  },
  {
   "cell_type": "markdown",
   "metadata": {},
   "source": [
    "\n",
    "## Sources\n",
    "\n",
    "[Tensorflow docs; loading Fasion_MNIST](https://www.tensorflow.org/api_docs/python/tf/keras/datasets/fashion_mnist/load_data)\n",
    "\n",
    "[Udemy, Intro to Machine Learning, Decision Trees](https://learn.udacity.com/courses/ud120/lessons/45da7686-9785-44db-9cbc-55a0286292a3/concepts/337a88e5-b117-494f-ac66-574cdf39a35b)\n",
    "\n",
    "[SciKit Decision Tree blogpost](https://towardsdatascience.com/scikit-learn-decision-trees-explained-803f3812290d)\n",
    "\n",
    "[scikit learn; RandomForestClassifier](https://scikit-learn.org/stable/modules/generated/sklearn.ensemble.RandomForestClassifier.html)\n",
    "\n",
    "[scikit learn; ensemble](https://scikit-learn.org/stable/modules/ensemble.html#forest)\n",
    "\n",
    "[scikit learn; PCA](https://scikit-learn.org/stable/modules/generated/sklearn.decomposition.PCA.html#sklearn.decomposition.PCA)\n",
    "\n",
    "[scikit learn; logistic regression (with softmax)](https://scikit-learn.org/stable/modules/generated/sklearn.linear_model.LogisticRegression.html)\n",
    "\n",
    "[Canvas, Decision Trees](https://fhict.instructure.com/courses/13057/pages/decision-trees)\n",
    "\n",
    "[ADS-A ML w5 Decision Trees](../Files/ADS-A%20ML%20w5%20Decision%20Trees.pdf)\n",
    "\n",
    "[Numpy reshape](https://numpy.org/doc/stable/reference/generated/numpy.reshape.html)\n",
    "\n"
   ]
  }
 ],
 "metadata": {
  "kernelspec": {
   "display_name": "Python 3",
   "language": "python",
   "name": "python3"
  },
  "language_info": {
   "codemirror_mode": {
    "name": "ipython",
    "version": 3
   },
   "file_extension": ".py",
   "mimetype": "text/x-python",
   "name": "python",
   "nbconvert_exporter": "python",
   "pygments_lexer": "ipython3",
   "version": "3.9.1"
  },
  "orig_nbformat": 4,
  "vscode": {
   "interpreter": {
    "hash": "81794d4967e6c3204c66dcd87b604927b115b27c00565d3d43f05ba2f3a2cb0d"
   }
  }
 },
 "nbformat": 4,
 "nbformat_minor": 2
}
