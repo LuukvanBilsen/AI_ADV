{
 "cells": [
  {
   "cell_type": "markdown",
   "metadata": {},
   "source": [
    "# [NLP - Exercise](https://fhict.instructure.com/courses/13057/assignments/219947)  <a name=\"EXER\"></a>\n",
    "\n",
    "## Relevant Modules\n",
    "[NLP - How to apply?](https://fhict.instructure.com/courses/13057/pages/nlp-how-to-apply?module_item_id=921382) <br/>\n",
    "[NLP - Theoretical background](https://fhict.instructure.com/courses/13057/pages/nlp-theoretical-background?module_item_id=921381)\n",
    "\n",
    "\n",
    "## Description\n",
    "You should now have a basic theoretical understanding of the elements in an NLP pipeline. And you should have some practice with several tutorials treating these new topics and methods.\n",
    "\n",
    "Now the time is ripe to play with one of the state-of-the-art NLP pre-trained models, such as BERT (and derivatives such as ALBERT and RoBERTa), GPT-2,\n",
    "\n",
    "1. Fine-tune a Tranformer model (use very little examples ~10-100): [Fine-tune a pretrained model](https://huggingface.co/docs/transformers/main/en/training) \n",
    "2. Apply the proper pipeline for inference and experiment with prompts: [Pipeline_tutorial](https://huggingface.co/docs/transformers/main/en/pipeline_tutorial) \n",
    "\n",
    "## Deliverable\n",
    "A link/HTML/PDF of your (colab) notebook, make sure to document the code and explain your own steps. For extra kudos, you can change the model and task of the given tutorials. But beware, playing around with these large models is challenging and fine-tuning large models requires a lot of time and GPU power.\n",
    "\n"
   ]
  },
  {
   "cell_type": "markdown",
   "metadata": {
    "tags": []
   },
   "source": [
    "***\n",
    "\n",
    "\n",
    "## Table of contents <a name=\"Table\"></a>\n",
    "- [Exercise statement](#EXER)\n",
    "- [Table of contents](#Table)\n",
    "- [Imports](#ENV)\n",
    "    - [GPU](#GPU)    \n",
    "- [Summarization](#SUMM)\n",
    "    - [Data](#DATA)\n",
    "    - [Model](#MODEL)\n",
    "    - [Training](#TRAIN)\n",
    "    - [Visualization](#VIS)\n",
    "    - [Pipeline](#PIPE)\n",
    "    - [Issues](#ISS)\n",
    "    - [Sources](#SRC)\n",
    "\n",
    "\n",
    "\n",
    "\n",
    "***"
   ]
  },
  {
   "cell_type": "markdown",
   "metadata": {},
   "source": [
    "\n",
    "## Imports <a name=\"ENV\"></a>"
   ]
  },
  {
   "cell_type": "code",
   "execution_count": 1,
   "metadata": {
    "tags": []
   },
   "outputs": [
    {
     "name": "stderr",
     "output_type": "stream",
     "text": [
      "/usr/local/lib/python3.8/dist-packages/tqdm/auto.py:21: TqdmWarning: IProgress not found. Please update jupyter and ipywidgets. See https://ipywidgets.readthedocs.io/en/stable/user_install.html\n",
      "  from .autonotebook import tqdm as notebook_tqdm\n"
     ]
    },
    {
     "name": "stdout",
     "output_type": "stream",
     "text": [
      "2.0.0+cu117-Torch\n",
      "2.12.0-TensorFlow/Keras\n",
      "2.0.0+cu117-PyTorch\n",
      "3.7.1-Matplotlib\n",
      "1.5.3-Pandas\n",
      "1.23.5-Numpy\n"
     ]
    }
   ],
   "source": [
    "from datetime import datetime\n",
    "import time\n",
    "import random\n",
    "import os\n",
    "\n",
    "os.environ['TF_CPP_MIN_LOG_LEVEL'] = '3' # or {‘0’, ‘1’, ‘2’}\n",
    "\n",
    "import tensorflow as tf\n",
    "from tensorflow import keras\n",
    "\n",
    "import torch\n",
    "\n",
    "from datasets import load_dataset, load_metric\n",
    "from transformers import AutoTokenizer\n",
    "from transformers import pipeline\n",
    "from transformers import AutoModelForSeq2SeqLM, DataCollatorForSeq2Seq, Seq2SeqTrainingArguments, Seq2SeqTrainer\n",
    "\n",
    "import nltk\n",
    "nltk.download('punkt')\n",
    "\n",
    "import numpy as np\n",
    "import pandas as pd\n",
    "\n",
    "from IPython.display import display, HTML\n",
    "\n",
    "import matplotlib\n",
    "from matplotlib import pyplot as plt\n",
    "from matplotlib import image as mpimg\n",
    "\n",
    "import seaborn as sns\n",
    "\n",
    "######################\n",
    "\n",
    "print(torch.__version__ + \"-Torch\")\n",
    "print(tf.__version__ + \"-TensorFlow/Keras\")\n",
    "print(torch.__version__+ \"-PyTorch\")\n",
    "print(matplotlib.__version__+ \"-Matplotlib\")\n",
    "print(pd.__version__+ \"-Pandas\")\n",
    "print(np.__version__+ \"-Numpy\")"
   ]
  },
  {
   "cell_type": "markdown",
   "metadata": {},
   "source": [
    "### GPU  <a name=\"GPU\"></a>"
   ]
  },
  {
   "cell_type": "code",
   "execution_count": 2,
   "metadata": {
    "tags": []
   },
   "outputs": [
    {
     "name": "stdout",
     "output_type": "stream",
     "text": [
      "True 1 0 <torch.cuda.device object at 0x7fd40c49edf0> NVIDIA GeForce RTX 2080\n"
     ]
    }
   ],
   "source": [
    "print(torch.cuda.is_available(), torch.cuda.device_count(), torch.cuda.current_device(), torch.cuda.device(0), torch.cuda.get_device_name(0))"
   ]
  },
  {
   "cell_type": "code",
   "execution_count": 3,
   "metadata": {
    "tags": []
   },
   "outputs": [
    {
     "name": "stdout",
     "output_type": "stream",
     "text": [
      "True 1\n"
     ]
    }
   ],
   "source": [
    "print(tf.test.is_built_with_cuda(), len(tf.config.list_physical_devices('GPU')))"
   ]
  },
  {
   "cell_type": "markdown",
   "metadata": {},
   "source": [
    "***\n",
    "\n",
    "## Summarization"
   ]
  },
  {
   "cell_type": "markdown",
   "metadata": {},
   "source": [
    "### Data\n",
    "\n",
    "Below we load the used dataset provided by the datasets library.\n",
    "\n",
    "We also load in the metrics package ROUGE (Recall-Oriented Understudy for Gisting Evaluation) for evaluating the performance of the trained model."
   ]
  },
  {
   "cell_type": "code",
   "execution_count": 4,
   "metadata": {
    "tags": []
   },
   "outputs": [
    {
     "name": "stderr",
     "output_type": "stream",
     "text": [
      "Found cached dataset xsum (/root/.cache/huggingface/datasets/xsum/default/1.2.0/082863bf4754ee058a5b6f6525d0cb2b18eadb62c7b370b095d1364050a52b71)\n",
      "100%|██████████| 3/3 [00:00<00:00, 104.87it/s]\n",
      "/tmp/ipykernel_39/4167283698.py:2: FutureWarning: load_metric is deprecated and will be removed in the next major version of datasets. Use 'evaluate.load' instead, from the new library 🤗 Evaluate: https://huggingface.co/docs/evaluate\n",
      "  metric = load_metric(\"rouge\")\n"
     ]
    }
   ],
   "source": [
    "raw_datasets = load_dataset(\"xsum\")\n",
    "metric = load_metric(\"rouge\")"
   ]
  },
  {
   "cell_type": "code",
   "execution_count": 5,
   "metadata": {
    "tags": []
   },
   "outputs": [
    {
     "data": {
      "text/plain": [
       "DatasetDict({\n",
       "    train: Dataset({\n",
       "        features: ['document', 'summary', 'id'],\n",
       "        num_rows: 204045\n",
       "    })\n",
       "    validation: Dataset({\n",
       "        features: ['document', 'summary', 'id'],\n",
       "        num_rows: 11332\n",
       "    })\n",
       "    test: Dataset({\n",
       "        features: ['document', 'summary', 'id'],\n",
       "        num_rows: 11334\n",
       "    })\n",
       "})"
      ]
     },
     "execution_count": 5,
     "metadata": {},
     "output_type": "execute_result"
    }
   ],
   "source": [
    "raw_datasets"
   ]
  },
  {
   "cell_type": "markdown",
   "metadata": {},
   "source": [
    "Here we can see the strucutre of our dataset. It is split into a train, validation and test -set consisiting of 204k, 11k & 11k entries respectively. All splits consist of feature columns containing the full document to be summarized, a summary that the model should aim for & an id.\n",
    "\n",
    "In the section below we see the last entry in the trainingset."
   ]
  },
  {
   "cell_type": "code",
   "execution_count": 6,
   "metadata": {
    "tags": []
   },
   "outputs": [
    {
     "data": {
      "text/plain": [
       "{'document': 'The incident occurred at the headquarters of the Siam Commercial Bank in Bangkok on Sunday night.\\nContract workers were upgrading the fire extinguisher system when a chemical retardant was released, apparently suffocating them.\\nPolice are investigating how the system was set off.\\nThe executives, Adisorn Pokha and Napong Suksanguan, are from a firm called Mega Planet, which had contracted out the work.\\nThey face up to 10 years in prison if found guilty of negligence.\\nPolice Lt Gen Sanit Mahathaworn said they had expressed regret and were willing to pay compensation for damages, according to the Bangkok Post.\\nThe bank had said that an aerosol system called pyrogen was \"inadvertently activated and exhausted all the oxygen in the area\" as contractors were working on it.\\nPyrogen involves a mixture of gases including potassium carbonates, nitrogen, carbon dioxide, carbon monoxide, nitrogen oxide and ammonia. The system works by removing all oxygen from the air to stifle a fire.\\nSeven of those killed were contractors and one person was a bank security guard. Seven others were injured.',\n",
       " 'summary': 'Police in Thailand have charged two executives from a fire safety firm with negligence after a chemical accident killed eight people.',\n",
       " 'id': '35809055'}"
      ]
     },
     "execution_count": 6,
     "metadata": {},
     "output_type": "execute_result"
    }
   ],
   "source": [
    "raw_datasets[\"train\"][-1]"
   ]
  },
  {
   "cell_type": "code",
   "execution_count": 7,
   "metadata": {
    "tags": []
   },
   "outputs": [
    {
     "data": {
      "text/plain": [
       "Dataset({\n",
       "    features: ['document', 'summary', 'id'],\n",
       "    num_rows: 40809\n",
       "})"
      ]
     },
     "execution_count": 7,
     "metadata": {},
     "output_type": "execute_result"
    }
   ],
   "source": [
    "shard_1 = raw_datasets[\"train\"].shard(num_shards=5, index=0)\n",
    "# shard_2 = raw_datasets[\"train\"].shard(num_shards=4, index=1)\n",
    "# shard_3 = raw_datasets[\"train\"].shard(num_shards=4, index=2)\n",
    "# shard_4 = raw_datasets[\"train\"].shard(num_shards=4, index=3)\n",
    "\n",
    "shard_1"
   ]
  },
  {
   "cell_type": "markdown",
   "metadata": {},
   "source": [
    "Later during training we figure out that the dataset is way to large for longer training so we divided it into shards."
   ]
  },
  {
   "cell_type": "markdown",
   "metadata": {},
   "source": [
    "***\n",
    "Below is an overview of the metric imported (ROUGE). \n",
    "\n",
    "Of particular interest in this project (and why rouge is used) are the \"Rouge1\", \"Rouge2\", \"Rouge_L\" & \"Rouge_L_sum\".\n",
    "\n",
    "Rouge 1 refers to the overlap of unigrams between the generated summary and the reference summary. While Rouge 2 refers to the overlap of bigrams between the two summaries.\n",
    "\n",
    "As I underdstand it this means in simple terms that rouge 1 checks how many words are in both summaries while rouge 2 checks for how many sequences (of 2) words are in both. There should also be a way to make the metric check for Rouge_n scores but it seems to be uncommon to go beyond roug_2 in other projects. Rouge_L is a score for the longest sequence that is in both summaries, the L is taken from \"Longest Common Subsequence\". The Rouge_L_Sum looks for the largest common sequence that can be made using both summaries.\n",
    "\n"
   ]
  },
  {
   "cell_type": "code",
   "execution_count": 8,
   "metadata": {
    "tags": []
   },
   "outputs": [
    {
     "data": {
      "text/plain": [
       "Metric(name: \"rouge\", features: {'predictions': Value(dtype='string', id='sequence'), 'references': Value(dtype='string', id='sequence')}, usage: \"\"\"\n",
       "Calculates average rouge scores for a list of hypotheses and references\n",
       "Args:\n",
       "    predictions: list of predictions to score. Each prediction\n",
       "        should be a string with tokens separated by spaces.\n",
       "    references: list of reference for each prediction. Each\n",
       "        reference should be a string with tokens separated by spaces.\n",
       "    rouge_types: A list of rouge types to calculate.\n",
       "        Valid names:\n",
       "        `\"rouge{n}\"` (e.g. `\"rouge1\"`, `\"rouge2\"`) where: {n} is the n-gram based scoring,\n",
       "        `\"rougeL\"`: Longest common subsequence based scoring.\n",
       "        `\"rougeLSum\"`: rougeLsum splits text using `\"\n",
       "\"`.\n",
       "        See details in https://github.com/huggingface/datasets/issues/617\n",
       "    use_stemmer: Bool indicating whether Porter stemmer should be used to strip word suffixes.\n",
       "    use_aggregator: Return aggregates if this is set to True\n",
       "Returns:\n",
       "    rouge1: rouge_1 (precision, recall, f1),\n",
       "    rouge2: rouge_2 (precision, recall, f1),\n",
       "    rougeL: rouge_l (precision, recall, f1),\n",
       "    rougeLsum: rouge_lsum (precision, recall, f1)\n",
       "Examples:\n",
       "\n",
       "    >>> rouge = datasets.load_metric('rouge')\n",
       "    >>> predictions = [\"hello there\", \"general kenobi\"]\n",
       "    >>> references = [\"hello there\", \"general kenobi\"]\n",
       "    >>> results = rouge.compute(predictions=predictions, references=references)\n",
       "    >>> print(list(results.keys()))\n",
       "    ['rouge1', 'rouge2', 'rougeL', 'rougeLsum']\n",
       "    >>> print(results[\"rouge1\"])\n",
       "    AggregateScore(low=Score(precision=1.0, recall=1.0, fmeasure=1.0), mid=Score(precision=1.0, recall=1.0, fmeasure=1.0), high=Score(precision=1.0, recall=1.0, fmeasure=1.0))\n",
       "    >>> print(results[\"rouge1\"].mid.fmeasure)\n",
       "    1.0\n",
       "\"\"\", stored examples: 0)"
      ]
     },
     "execution_count": 8,
     "metadata": {},
     "output_type": "execute_result"
    }
   ],
   "source": [
    "metric "
   ]
  },
  {
   "cell_type": "code",
   "execution_count": 9,
   "metadata": {
    "tags": []
   },
   "outputs": [
    {
     "data": {
      "text/plain": [
       "{'rouge1': AggregateScore(low=Score(precision=1.0, recall=1.0, fmeasure=1.0), mid=Score(precision=1.0, recall=1.0, fmeasure=1.0), high=Score(precision=1.0, recall=1.0, fmeasure=1.0)),\n",
       " 'rouge2': AggregateScore(low=Score(precision=1.0, recall=1.0, fmeasure=1.0), mid=Score(precision=1.0, recall=1.0, fmeasure=1.0), high=Score(precision=1.0, recall=1.0, fmeasure=1.0)),\n",
       " 'rougeL': AggregateScore(low=Score(precision=1.0, recall=1.0, fmeasure=1.0), mid=Score(precision=1.0, recall=1.0, fmeasure=1.0), high=Score(precision=1.0, recall=1.0, fmeasure=1.0)),\n",
       " 'rougeLsum': AggregateScore(low=Score(precision=1.0, recall=1.0, fmeasure=1.0), mid=Score(precision=1.0, recall=1.0, fmeasure=1.0), high=Score(precision=1.0, recall=1.0, fmeasure=1.0))}"
      ]
     },
     "execution_count": 9,
     "metadata": {},
     "output_type": "execute_result"
    }
   ],
   "source": [
    "fake_preds = [\"hello there\", \"general kenobi\"]\n",
    "fake_labels = [\"hello there\", \"general kenobi\"]\n",
    "metric.compute(predictions=fake_preds, references=fake_labels)"
   ]
  },
  {
   "cell_type": "markdown",
   "metadata": {},
   "source": [
    "## Model"
   ]
  },
  {
   "cell_type": "markdown",
   "metadata": {},
   "source": [
    "Below the model_checkpoint is defined. This will be used to load in the pretrained model. Several types were tried but due to constraints in my hardware I've chosen to use  t5-small which is already a fairly large model.\n",
    "\n",
    "Its tokenizer is grabbed using AutoTokenizer from the Transformers package and we can see the attention_mask and tokens for some sentences (ToDo attention mask). "
   ]
  },
  {
   "cell_type": "code",
   "execution_count": 10,
   "metadata": {
    "tags": []
   },
   "outputs": [],
   "source": [
    "model_checkpoint = \"t5-small\"  #[\"t5-small\", \"t5-base\", \"t5-larg\", \"t5-3b\", \"t5-11b\"]"
   ]
  },
  {
   "cell_type": "code",
   "execution_count": 11,
   "metadata": {
    "tags": []
   },
   "outputs": [],
   "source": [
    "tokenizer = AutoTokenizer.from_pretrained(model_checkpoint)"
   ]
  },
  {
   "cell_type": "code",
   "execution_count": 12,
   "metadata": {
    "tags": []
   },
   "outputs": [
    {
     "data": {
      "text/plain": [
       "{'input_ids': [8774, 6, 48, 80, 7142, 55, 1], 'attention_mask': [1, 1, 1, 1, 1, 1, 1]}"
      ]
     },
     "execution_count": 12,
     "metadata": {},
     "output_type": "execute_result"
    }
   ],
   "source": [
    "tokenizer(\"Hello, this one sentence!\")"
   ]
  },
  {
   "cell_type": "code",
   "execution_count": 13,
   "metadata": {
    "tags": []
   },
   "outputs": [
    {
     "data": {
      "text/plain": [
       "{'input_ids': [[8774, 6, 48, 80, 7142, 55, 1], [100, 19, 430, 7142, 5, 1]], 'attention_mask': [[1, 1, 1, 1, 1, 1, 1], [1, 1, 1, 1, 1, 1]]}"
      ]
     },
     "execution_count": 13,
     "metadata": {},
     "output_type": "execute_result"
    }
   ],
   "source": [
    "tokenizer([\"Hello, this one sentence!\", \"This is another sentence.\"])"
   ]
  },
  {
   "cell_type": "code",
   "execution_count": 14,
   "metadata": {
    "tags": []
   },
   "outputs": [
    {
     "name": "stdout",
     "output_type": "stream",
     "text": [
      "{'input_ids': [[8774, 6, 48, 80, 7142, 55, 1], [100, 19, 430, 7142, 5, 1]], 'attention_mask': [[1, 1, 1, 1, 1, 1, 1], [1, 1, 1, 1, 1, 1]]}\n"
     ]
    },
    {
     "name": "stderr",
     "output_type": "stream",
     "text": [
      "/usr/local/lib/python3.8/dist-packages/transformers/tokenization_utils_base.py:3596: UserWarning: `as_target_tokenizer` is deprecated and will be removed in v5 of Transformers. You can tokenize your labels by using the argument `text_target` of the regular `__call__` method (either in the same call as your input texts if you use the same keyword arguments, or in a separate call.\n",
      "  warnings.warn(\n"
     ]
    }
   ],
   "source": [
    "with tokenizer.as_target_tokenizer():\n",
    "    print(tokenizer([\"Hello, this one sentence!\", \"This is another sentence.\"]))"
   ]
  },
  {
   "cell_type": "markdown",
   "metadata": {},
   "source": [
    "Here the preprocessing is shown for an entry in the dataset as opposed to our own sentences above."
   ]
  },
  {
   "cell_type": "code",
   "execution_count": 15,
   "metadata": {
    "tags": []
   },
   "outputs": [],
   "source": [
    "max_input_length = 1024\n",
    "max_target_length = 128\n",
    "prefix = \"summarize: \" #Since the model has multiple functionalities see: https://huggingface.co/t5-small\n",
    "\n",
    "def preprocess_function(examples):\n",
    "    inputs = [prefix + doc for doc in examples[\"document\"]]\n",
    "    model_inputs = tokenizer(inputs, max_length=max_input_length, truncation=True)\n",
    "\n",
    "    # Setup the tokenizer for targets\n",
    "    with tokenizer.as_target_tokenizer():\n",
    "        labels = tokenizer(examples[\"summary\"], max_length=max_target_length, truncation=True)\n",
    "\n",
    "    model_inputs[\"labels\"] = labels[\"input_ids\"]\n",
    "    return model_inputs"
   ]
  },
  {
   "cell_type": "code",
   "execution_count": 16,
   "metadata": {
    "tags": []
   },
   "outputs": [
    {
     "data": {
      "text/plain": [
       "{'input_ids': [[21603, 10, 37, 423, 583, 13, 1783, 16, 20126, 16496, 6, 80, 13, 8, 844, 6025, 4161, 6, 19, 341, 271, 14841, 5, 7057, 161, 19, 4912, 16, 1626, 5981, 11, 186, 7540, 16, 1276, 15, 2296, 7, 5718, 2367, 14621, 4161, 57, 4125, 387, 5, 15059, 7, 30, 8, 4653, 4939, 711, 747, 522, 17879, 788, 12, 1783, 44, 8, 15763, 6029, 1813, 9, 7472, 5, 1404, 1623, 11, 5699, 277, 130, 4161, 57, 18368, 16, 20126, 16496, 227, 8, 2473, 5895, 15, 147, 89, 22411, 139, 8, 1511, 5, 1485, 3271, 3, 21926, 9, 472, 19623, 5251, 8, 616, 12, 15614, 8, 1783, 5, 37, 13818, 10564, 15, 26, 3, 9, 3, 19513, 1481, 6, 18368, 186, 1328, 2605, 30, 7488, 1887, 3, 18, 8, 711, 2309, 9517, 89, 355, 5, 3966, 1954, 9233, 15, 6, 113, 293, 7, 8, 16548, 13363, 106, 14022, 84, 47, 14621, 4161, 6, 243, 255, 228, 59, 7828, 8, 1249, 18, 545, 11298, 1773, 728, 8, 8347, 1560, 5, 611, 6, 255, 243, 72, 1709, 1528, 161, 228, 43, 118, 4006, 91, 12, 766, 8, 3, 19513, 1481, 410, 59, 5124, 5, 96, 196, 17, 19, 1256, 68, 27, 103, 317, 132, 19, 78, 231, 23546, 21, 970, 51, 89, 2593, 11, 8, 2504, 189, 3, 18, 11, 27, 3536, 3653, 24, 3, 18, 68, 34, 19, 966, 114, 62, 31, 60, 23708, 42, 11821, 976, 255, 243, 5, 96, 11880, 164, 59, 36, 1176, 68, 34, 19, 2361, 82, 3503, 147, 8, 336, 360, 477, 5, 96, 17891, 130, 25, 59, 1065, 12, 199, 178, 3, 9, 720, 72, 116, 8, 6337, 11, 8, 6196, 5685, 7, 141, 2767, 91, 4609, 7940, 6, 3, 9, 8347, 5685, 3048, 16, 286, 640, 8, 17600, 7, 250, 13, 8, 3917, 3412, 5, 1276, 15, 2296, 7, 47, 14621, 1560, 57, 982, 6, 13233, 53, 3088, 12, 4277, 72, 13613, 7, 16, 8, 616, 5, 12580, 17600, 7, 2063, 65, 474, 3, 9, 570, 30, 165, 475, 13, 8, 7540, 6025, 4161, 11, 3863, 43, 118, 3, 19492, 59, 12, 9751, 12493, 3957, 5, 37, 16117, 3450, 31, 7, 21108, 12580, 2488, 5104, 11768, 1306, 47, 16, 1626, 5981, 30, 2089, 12, 217, 8, 1419, 166, 609, 5, 216, 243, 34, 47, 359, 12, 129, 8, 8347, 1711, 515, 269, 68, 3, 9485, 3088, 12, 1634, 95, 8, 433, 5, 96, 196, 47, 882, 1026, 3, 9, 1549, 57, 8, 866, 13, 1783, 24, 65, 118, 612, 976, 3, 88, 243, 5, 96, 14116, 34, 19, 842, 18, 18087, 21, 151, 113, 43, 118, 5241, 91, 13, 70, 2503, 11, 8, 1113, 30, 1623, 535, 216, 243, 34, 47, 359, 24, 96, 603, 5700, 342, 2245, 121, 130, 1026, 12, 1822, 8, 844, 167, 9930, 11, 3, 9, 964, 97, 3869, 474, 16, 286, 21, 8347, 9793, 1390, 5, 2114, 25, 118, 4161, 57, 18368, 16, 970, 51, 89, 2593, 11, 10987, 32, 1343, 42, 8, 17600, 7, 58, 8779, 178, 81, 39, 351, 13, 8, 1419, 11, 149, 34, 47, 10298, 5, 8601, 178, 30, 142, 40, 157, 12546, 5, 15808, 1741, 115, 115, 75, 5, 509, 5, 1598, 42, 146, 51, 89, 2593, 1741, 115, 115, 75, 5, 509, 5, 1598, 5, 1], [21603, 10, 6308, 15, 1699, 4331, 32, 530, 8, 4462, 653, 28, 8, 336, 888, 13, 8, 467, 6, 826, 2283, 19396, 7, 57, 4409, 6343, 7, 291, 32, 6, 1027, 11849, 1699, 1304, 739, 11, 10243, 12455, 440, 5667, 76, 5, 12749, 29, 986, 2216, 348, 11, 7153, 17, 106, 216, 7820, 17, 530, 3, 9, 653, 16, 893, 985, 21, 8, 10282, 7, 5, 18588, 3217, 623, 4784, 2793, 16, 4963, 38, 79, 808, 610, 13, 3, 9, 21124, 1588, 16, 8, 511, 1059, 5, 1210, 3763, 3, 26705, 4463, 7, 989, 1891, 3, 9, 5695, 12, 579, 1840, 377, 17279, 152, 18, 7473, 3556, 9, 969, 3, 3108, 2067, 1824, 400, 1823, 23, 63, 2551, 1967, 32, 6, 11, 2050, 5104, 6393, 1047, 3666, 45, 307, 18, 1987, 2871, 6, 298, 8, 10282, 7, 1891, 166, 3511, 13, 8, 774, 12, 3, 3108, 71, 1361, 3004, 210, 11, 7970, 49, 15334, 23, 32, 17, 374, 15, 5, 18588, 1513, 7970, 49, 5192, 3038, 7754, 10666, 12, 46, 778, 8173, 2871, 68, 808, 2337, 13, 70, 166, 1666, 116, 2158, 651, 205, 109, 4102, 4918, 1054, 147, 3, 9, 10736, 30, 586, 676, 5, 94, 808, 997, 676, 21, 3, 9, 1028, 1927, 2429, 26, 467, 12, 1759, 3, 9, 653, 38, 1138, 60, 40, 1266, 3600, 302, 3, 20317, 15, 26, 45, 885, 620, 11, 2216, 348, 5241, 112, 194, 147, 21, 9637, 304, 162, 63, 12, 5755, 3, 18, 2199, 34, 47, 8, 6081, 31, 7, 336, 6275, 38, 3, 88, 3, 31779, 28, 3, 9, 5738, 2871, 10545, 15627, 5, 18588, 10056, 223, 116, 6343, 7, 291, 32, 10719, 147, 45, 3, 9, 8394, 954, 83, 30, 3097, 676, 21, 205, 109, 4102, 12, 5755, 5, 299, 8, 10282, 7, 593, 1361, 44, 335, 4536, 274, 985, 18, 715, 116, 1823, 23, 63, 2551, 1967, 32, 47, 4459, 18, 6043, 15, 26, 21, 46, 22142, 8000, 30, 3004, 210, 11, 304, 162, 63, 4918, 1054, 8, 514, 1288, 5, 37, 2692, 228, 59, 143, 8, 167, 13, 70, 80, 18, 348, 2337, 227, 8, 1733, 38, 70, 3505, 3476, 583, 135, 12537, 120, 5, 94, 47, 18588, 31, 7, 8453, 351, 24, 3217, 116, 4794, 25594, 31, 7, 1733, 2237, 12, 3, 9, 710, 18, 5517, 2604, 45, 21615, 6377, 1699, 1304, 739, 6, 12069, 57, 205, 109, 4102, 5, 374, 2780, 288, 1699, 4331, 32, 47, 8, 511, 234, 1959, 12, 36, 3731, 18, 115, 14029, 26, 6, 30, 3, 3891, 676, 6, 68, 541, 8, 24499, 263, 659, 13, 34, 38, 3709, 3, 3108, 12455, 440, 5667, 76, 6, 3, 9, 11474, 45, 8, 6788, 6, 3, 102, 7906, 26, 12, 20, 89, 17, 120, 8093, 190, 3, 9, 3, 4076, 4733, 1996, 21, 46, 3, 32, 102, 1493, 202, 343, 653, 5, 37, 10282, 7, 530, 223, 441, 11214, 620, 28, 128, 1287, 3334, 5834, 3, 3131, 216, 7820, 17, 147, 73, 28236, 3843, 227, 9455, 676, 5, 611, 6, 1699, 4331, 32, 1632, 3731, 687, 18, 24346, 18, 7, 9, 77, 17, 38, 3, 88, 530, 30, 8, 414, 13, 430, 1231, 8394, 954, 83, 12, 3807, 112, 596, 8, 996, 500, 28, 8, 336, 888, 13, 8, 467, 6, 205, 109, 4102, 3, 21049, 5, 10282, 7, 2090, 13, 22209, 5225, 29, 6193, 243, 10, 96, 1326, 31, 60, 10978, 12, 43, 1513, 68, 69, 821, 47, 3, 9, 418, 394, 784, 6736, 581, 312, 77, 1370, 908, 11, 8, 467, 228, 43, 2767, 893, 194, 5, 96, 5110, 29178, 396, 186, 6854, 1187, 8, 14667, 440, 583, 178, 3, 9, 248, 1154, 6, 713, 45, 213, 62, 130, 3, 9, 21, 17, 7602, 977, 16, 14112, 69, 161, 2206, 11, 3667, 47, 1287, 5, 96, 196, 17, 47, 914, 3505, 3476, 45, 1742, 1187, 8, 14667, 440, 24, 583, 178, 1057, 1102, 6, 34, 31, 7, 59, 15721, 2056, 3, 18, 79, 130, 2024, 16, 149, 79, 1944, 11, 62, 141, 3, 9, 360, 6854, 6, 24, 47, 8, 1750, 535, 18588, 24499, 10, 2158, 651, 21512, 6, 2067, 1824, 400, 1823, 23, 63, 2551, 1967, 32, 6, 5104, 6393, 1047, 6, 27495, 5225, 109, 6, 5531, 6193, 6, 2158, 651, 205, 109, 4102, 6, 13375, 739, 10498, 117, 5104, 432, 152, 6, 5192, 2143, 7754, 10666, 6, 1027, 11849, 1699, 1304, 739, 6, 5376, 26085, 41, 4010, 17, 201, 4972, 205, 23434, 7, 6, 11560, 107, 21581, 6, 4409, 6343, 7, 291, 32, 6, 7124, 282, 88, 5, 21438, 7, 10, 7566, 1744, 7, 4972, 6, 16637, 18707, 76, 63, 9, 4796, 7396, 6, 4794, 1839, 15525, 6, 11859, 2737, 739, 6, 6308, 15, 1699, 4331, 32, 6, 4794, 25594, 6, 3, 26705, 14046, 6, 10243, 12455, 440, 5667, 76, 5, 10282, 7, 10, 7291, 19191, 6, 7153, 17, 106, 216, 7820, 17, 6, 9616, 15811, 109, 6, 7124, 16700, 6, 71, 1361, 3004, 210, 6, 9637, 304, 162, 63, 6, 1138, 60, 40, 1266, 3600, 302, 117, 7254, 159, 11469, 9789, 362, 6, 15334, 23, 32, 17, 374, 15, 6, 4027, 157, 12551, 6, 7486, 4737, 2091, 6, 12749, 29, 986, 2216, 348, 41, 4010, 17, 201, 9765, 18305, 6, 20310, 1839, 26, 26, 6, 4857, 7714, 5, 21438, 7, 10, 11092, 63, 7, 10295, 1306, 6, 8188, 5312, 6, 3926, 202, 11595, 6, 9771, 4712, 60, 10217, 6, 5424, 1896, 29345, 7, 6, 3, 11748, 6193, 6, 12707, 28571, 6, 7486, 4972, 5, 1]], 'attention_mask': [[1, 1, 1, 1, 1, 1, 1, 1, 1, 1, 1, 1, 1, 1, 1, 1, 1, 1, 1, 1, 1, 1, 1, 1, 1, 1, 1, 1, 1, 1, 1, 1, 1, 1, 1, 1, 1, 1, 1, 1, 1, 1, 1, 1, 1, 1, 1, 1, 1, 1, 1, 1, 1, 1, 1, 1, 1, 1, 1, 1, 1, 1, 1, 1, 1, 1, 1, 1, 1, 1, 1, 1, 1, 1, 1, 1, 1, 1, 1, 1, 1, 1, 1, 1, 1, 1, 1, 1, 1, 1, 1, 1, 1, 1, 1, 1, 1, 1, 1, 1, 1, 1, 1, 1, 1, 1, 1, 1, 1, 1, 1, 1, 1, 1, 1, 1, 1, 1, 1, 1, 1, 1, 1, 1, 1, 1, 1, 1, 1, 1, 1, 1, 1, 1, 1, 1, 1, 1, 1, 1, 1, 1, 1, 1, 1, 1, 1, 1, 1, 1, 1, 1, 1, 1, 1, 1, 1, 1, 1, 1, 1, 1, 1, 1, 1, 1, 1, 1, 1, 1, 1, 1, 1, 1, 1, 1, 1, 1, 1, 1, 1, 1, 1, 1, 1, 1, 1, 1, 1, 1, 1, 1, 1, 1, 1, 1, 1, 1, 1, 1, 1, 1, 1, 1, 1, 1, 1, 1, 1, 1, 1, 1, 1, 1, 1, 1, 1, 1, 1, 1, 1, 1, 1, 1, 1, 1, 1, 1, 1, 1, 1, 1, 1, 1, 1, 1, 1, 1, 1, 1, 1, 1, 1, 1, 1, 1, 1, 1, 1, 1, 1, 1, 1, 1, 1, 1, 1, 1, 1, 1, 1, 1, 1, 1, 1, 1, 1, 1, 1, 1, 1, 1, 1, 1, 1, 1, 1, 1, 1, 1, 1, 1, 1, 1, 1, 1, 1, 1, 1, 1, 1, 1, 1, 1, 1, 1, 1, 1, 1, 1, 1, 1, 1, 1, 1, 1, 1, 1, 1, 1, 1, 1, 1, 1, 1, 1, 1, 1, 1, 1, 1, 1, 1, 1, 1, 1, 1, 1, 1, 1, 1, 1, 1, 1, 1, 1, 1, 1, 1, 1, 1, 1, 1, 1, 1, 1, 1, 1, 1, 1, 1, 1, 1, 1, 1, 1, 1, 1, 1, 1, 1, 1, 1, 1, 1, 1, 1, 1, 1, 1, 1, 1, 1, 1, 1, 1, 1, 1, 1, 1, 1, 1, 1, 1, 1, 1, 1, 1, 1, 1, 1, 1, 1, 1, 1, 1, 1, 1, 1, 1, 1, 1, 1, 1, 1, 1, 1, 1, 1, 1, 1, 1, 1, 1, 1, 1, 1, 1, 1, 1, 1, 1, 1, 1, 1, 1, 1, 1, 1, 1, 1, 1, 1, 1, 1, 1, 1, 1, 1, 1, 1, 1, 1, 1, 1, 1, 1, 1, 1, 1, 1, 1, 1, 1, 1, 1, 1, 1, 1, 1, 1, 1, 1, 1, 1, 1, 1, 1, 1, 1, 1, 1, 1, 1, 1, 1, 1, 1, 1, 1, 1, 1, 1, 1, 1, 1, 1, 1, 1, 1, 1, 1, 1, 1, 1, 1, 1, 1, 1, 1, 1, 1, 1, 1, 1, 1, 1, 1, 1, 1, 1, 1, 1, 1, 1, 1, 1, 1, 1, 1, 1, 1, 1, 1, 1, 1, 1, 1, 1, 1, 1, 1, 1, 1, 1, 1, 1, 1, 1, 1, 1], [1, 1, 1, 1, 1, 1, 1, 1, 1, 1, 1, 1, 1, 1, 1, 1, 1, 1, 1, 1, 1, 1, 1, 1, 1, 1, 1, 1, 1, 1, 1, 1, 1, 1, 1, 1, 1, 1, 1, 1, 1, 1, 1, 1, 1, 1, 1, 1, 1, 1, 1, 1, 1, 1, 1, 1, 1, 1, 1, 1, 1, 1, 1, 1, 1, 1, 1, 1, 1, 1, 1, 1, 1, 1, 1, 1, 1, 1, 1, 1, 1, 1, 1, 1, 1, 1, 1, 1, 1, 1, 1, 1, 1, 1, 1, 1, 1, 1, 1, 1, 1, 1, 1, 1, 1, 1, 1, 1, 1, 1, 1, 1, 1, 1, 1, 1, 1, 1, 1, 1, 1, 1, 1, 1, 1, 1, 1, 1, 1, 1, 1, 1, 1, 1, 1, 1, 1, 1, 1, 1, 1, 1, 1, 1, 1, 1, 1, 1, 1, 1, 1, 1, 1, 1, 1, 1, 1, 1, 1, 1, 1, 1, 1, 1, 1, 1, 1, 1, 1, 1, 1, 1, 1, 1, 1, 1, 1, 1, 1, 1, 1, 1, 1, 1, 1, 1, 1, 1, 1, 1, 1, 1, 1, 1, 1, 1, 1, 1, 1, 1, 1, 1, 1, 1, 1, 1, 1, 1, 1, 1, 1, 1, 1, 1, 1, 1, 1, 1, 1, 1, 1, 1, 1, 1, 1, 1, 1, 1, 1, 1, 1, 1, 1, 1, 1, 1, 1, 1, 1, 1, 1, 1, 1, 1, 1, 1, 1, 1, 1, 1, 1, 1, 1, 1, 1, 1, 1, 1, 1, 1, 1, 1, 1, 1, 1, 1, 1, 1, 1, 1, 1, 1, 1, 1, 1, 1, 1, 1, 1, 1, 1, 1, 1, 1, 1, 1, 1, 1, 1, 1, 1, 1, 1, 1, 1, 1, 1, 1, 1, 1, 1, 1, 1, 1, 1, 1, 1, 1, 1, 1, 1, 1, 1, 1, 1, 1, 1, 1, 1, 1, 1, 1, 1, 1, 1, 1, 1, 1, 1, 1, 1, 1, 1, 1, 1, 1, 1, 1, 1, 1, 1, 1, 1, 1, 1, 1, 1, 1, 1, 1, 1, 1, 1, 1, 1, 1, 1, 1, 1, 1, 1, 1, 1, 1, 1, 1, 1, 1, 1, 1, 1, 1, 1, 1, 1, 1, 1, 1, 1, 1, 1, 1, 1, 1, 1, 1, 1, 1, 1, 1, 1, 1, 1, 1, 1, 1, 1, 1, 1, 1, 1, 1, 1, 1, 1, 1, 1, 1, 1, 1, 1, 1, 1, 1, 1, 1, 1, 1, 1, 1, 1, 1, 1, 1, 1, 1, 1, 1, 1, 1, 1, 1, 1, 1, 1, 1, 1, 1, 1, 1, 1, 1, 1, 1, 1, 1, 1, 1, 1, 1, 1, 1, 1, 1, 1, 1, 1, 1, 1, 1, 1, 1, 1, 1, 1, 1, 1, 1, 1, 1, 1, 1, 1, 1, 1, 1, 1, 1, 1, 1, 1, 1, 1, 1, 1, 1, 1, 1, 1, 1, 1, 1, 1, 1, 1, 1, 1, 1, 1, 1, 1, 1, 1, 1, 1, 1, 1, 1, 1, 1, 1, 1, 1, 1, 1, 1, 1, 1, 1, 1, 1, 1, 1, 1, 1, 1, 1, 1, 1, 1, 1, 1, 1, 1, 1, 1, 1, 1, 1, 1, 1, 1, 1, 1, 1, 1, 1, 1, 1, 1, 1, 1, 1, 1, 1, 1, 1, 1, 1, 1, 1, 1, 1, 1, 1, 1, 1, 1, 1, 1, 1, 1, 1, 1, 1, 1, 1, 1, 1, 1, 1, 1, 1, 1, 1, 1, 1, 1, 1, 1, 1, 1, 1, 1, 1, 1, 1, 1, 1, 1, 1, 1, 1, 1, 1, 1, 1, 1, 1, 1, 1, 1, 1, 1, 1, 1, 1, 1, 1, 1, 1, 1, 1, 1, 1, 1, 1, 1, 1, 1, 1, 1, 1, 1, 1, 1, 1, 1, 1, 1, 1, 1, 1, 1, 1, 1, 1, 1, 1, 1, 1, 1, 1, 1, 1, 1, 1, 1, 1, 1, 1, 1, 1, 1, 1, 1, 1, 1, 1, 1, 1, 1, 1, 1, 1, 1, 1, 1, 1, 1, 1, 1, 1, 1, 1, 1, 1, 1, 1, 1, 1, 1, 1, 1, 1, 1, 1, 1, 1, 1, 1, 1, 1, 1, 1, 1, 1, 1, 1, 1, 1, 1, 1, 1, 1, 1, 1, 1, 1, 1, 1, 1, 1, 1, 1, 1, 1, 1, 1, 1, 1, 1, 1, 1, 1, 1, 1, 1, 1, 1, 1, 1, 1, 1, 1, 1, 1, 1, 1, 1, 1, 1, 1, 1, 1, 1, 1, 1, 1, 1, 1, 1, 1, 1, 1, 1, 1, 1, 1, 1, 1, 1, 1, 1, 1, 1, 1, 1, 1, 1, 1, 1, 1, 1, 1, 1, 1, 1, 1, 1, 1, 1, 1, 1, 1, 1, 1, 1, 1, 1, 1, 1, 1, 1, 1, 1, 1, 1, 1, 1, 1, 1, 1, 1, 1, 1, 1, 1, 1, 1, 1, 1, 1, 1, 1, 1, 1, 1, 1, 1, 1, 1, 1, 1, 1, 1, 1, 1, 1, 1, 1, 1, 1, 1, 1, 1, 1, 1, 1, 1, 1, 1, 1, 1, 1, 1, 1, 1, 1, 1, 1, 1, 1, 1, 1, 1, 1, 1, 1, 1, 1, 1, 1, 1, 1, 1, 1, 1, 1, 1, 1, 1, 1, 1, 1, 1, 1, 1, 1, 1, 1, 1, 1, 1, 1, 1, 1, 1, 1, 1, 1, 1, 1, 1, 1, 1, 1, 1]], 'labels': [[7433, 18, 413, 2673, 33, 6168, 640, 8, 12580, 17600, 7, 11, 970, 51, 89, 2593, 11, 10987, 32, 1343, 227, 18368, 2953, 57, 16133, 4937, 5, 1], [3, 16196, 9303, 749, 2122, 6336, 7, 18588, 24499, 2182, 5402, 3, 9, 1480, 4023, 18, 2700, 6224, 147, 8, 10282, 7, 3, 3565, 3, 9, 2290, 13, 14101, 15, 15, 7, 11, 192, 4459, 2190, 5, 1]]}"
      ]
     },
     "execution_count": 16,
     "metadata": {},
     "output_type": "execute_result"
    }
   ],
   "source": [
    "preprocess_function(shard_1[:2])"
   ]
  },
  {
   "cell_type": "markdown",
   "metadata": {},
   "source": [
    "This process is then applied to the entire datset"
   ]
  },
  {
   "cell_type": "code",
   "execution_count": 17,
   "metadata": {
    "tags": []
   },
   "outputs": [
    {
     "data": {
      "text/plain": [
       "DatasetDict({\n",
       "    train: Dataset({\n",
       "        features: ['document', 'summary', 'id'],\n",
       "        num_rows: 40809\n",
       "    })\n",
       "    validation: Dataset({\n",
       "        features: ['document', 'summary', 'id'],\n",
       "        num_rows: 11332\n",
       "    })\n",
       "    test: Dataset({\n",
       "        features: ['document', 'summary', 'id'],\n",
       "        num_rows: 11334\n",
       "    })\n",
       "})"
      ]
     },
     "execution_count": 17,
     "metadata": {},
     "output_type": "execute_result"
    }
   ],
   "source": [
    "raw_datasets[\"train\"] = shard_1\n",
    "raw_datasets"
   ]
  },
  {
   "cell_type": "code",
   "execution_count": 18,
   "metadata": {
    "tags": []
   },
   "outputs": [
    {
     "name": "stderr",
     "output_type": "stream",
     "text": [
      "WARNING:datasets.arrow_dataset:Loading cached processed dataset at /root/.cache/huggingface/datasets/xsum/default/1.2.0/082863bf4754ee058a5b6f6525d0cb2b18eadb62c7b370b095d1364050a52b71/cache-4dda8c796296c4f4.arrow\n",
      "WARNING:datasets.arrow_dataset:Loading cached processed dataset at /root/.cache/huggingface/datasets/xsum/default/1.2.0/082863bf4754ee058a5b6f6525d0cb2b18eadb62c7b370b095d1364050a52b71/cache-7f1b0348c31c66a8.arrow\n",
      "WARNING:datasets.arrow_dataset:Loading cached processed dataset at /root/.cache/huggingface/datasets/xsum/default/1.2.0/082863bf4754ee058a5b6f6525d0cb2b18eadb62c7b370b095d1364050a52b71/cache-7c2bb08c088dd07b.arrow\n"
     ]
    }
   ],
   "source": [
    "tokenized_datasets = raw_datasets.map(preprocess_function, batched=True)"
   ]
  },
  {
   "cell_type": "code",
   "execution_count": 19,
   "metadata": {
    "tags": []
   },
   "outputs": [
    {
     "data": {
      "text/plain": [
       "DatasetDict({\n",
       "    train: Dataset({\n",
       "        features: ['document', 'summary', 'id', 'input_ids', 'attention_mask', 'labels'],\n",
       "        num_rows: 40809\n",
       "    })\n",
       "    validation: Dataset({\n",
       "        features: ['document', 'summary', 'id', 'input_ids', 'attention_mask', 'labels'],\n",
       "        num_rows: 11332\n",
       "    })\n",
       "    test: Dataset({\n",
       "        features: ['document', 'summary', 'id', 'input_ids', 'attention_mask', 'labels'],\n",
       "        num_rows: 11334\n",
       "    })\n",
       "})"
      ]
     },
     "execution_count": 19,
     "metadata": {},
     "output_type": "execute_result"
    }
   ],
   "source": [
    "tokenized_datasets "
   ]
  },
  {
   "cell_type": "markdown",
   "metadata": {},
   "source": [
    "Now the trainer gets set up and the arguments for it are given. In the args below the standard input is used as defined inthe Seq2Seq documents."
   ]
  },
  {
   "cell_type": "markdown",
   "metadata": {},
   "source": [
    "### Training <a name=\"TRAIN\"></a>"
   ]
  },
  {
   "cell_type": "markdown",
   "metadata": {},
   "source": [
    "Here we load the t5-small model using the transformers library"
   ]
  },
  {
   "cell_type": "code",
   "execution_count": 20,
   "metadata": {
    "tags": []
   },
   "outputs": [],
   "source": [
    "model = AutoModelForSeq2SeqLM.from_pretrained(model_checkpoint) #t5-small"
   ]
  },
  {
   "cell_type": "markdown",
   "metadata": {},
   "source": [
    "Here we define the arguments for the seq2seq trainer. No real changes from the defaults found in the huggingface documents, the batchsize is set at 8 for memory issues. "
   ]
  },
  {
   "cell_type": "code",
   "execution_count": 21,
   "metadata": {
    "tags": []
   },
   "outputs": [],
   "source": [
    "batch_size = 8\n",
    "\n",
    "model_name = model_checkpoint.split(\"/\")[-1]\n",
    "\n",
    "args = Seq2SeqTrainingArguments(\n",
    "    f\"{model_name}-xsum\",\n",
    "    evaluation_strategy = \"epoch\",\n",
    "    learning_rate=2e-5,\n",
    "    per_device_train_batch_size=batch_size,\n",
    "    per_device_eval_batch_size=batch_size,\n",
    "    weight_decay=0.01,\n",
    "    save_total_limit=3,\n",
    "    save_steps=10000,\n",
    "    num_train_epochs=20,\n",
    "    predict_with_generate=True,\n",
    "    fp16=True,\n",
    ")"
   ]
  },
  {
   "cell_type": "code",
   "execution_count": 22,
   "metadata": {
    "tags": []
   },
   "outputs": [],
   "source": [
    "data_collator = DataCollatorForSeq2Seq(tokenizer, model=model)"
   ]
  },
  {
   "cell_type": "markdown",
   "metadata": {},
   "source": [
    "Below is the compute_metrics function as given on the huggingface source defined in sources"
   ]
  },
  {
   "cell_type": "code",
   "execution_count": 23,
   "metadata": {
    "tags": []
   },
   "outputs": [
    {
     "name": "stderr",
     "output_type": "stream",
     "text": [
      "[nltk_data] Downloading package punkt to /root/nltk_data...\n",
      "[nltk_data]   Package punkt is already up-to-date!\n"
     ]
    }
   ],
   "source": [
    "def compute_metrics(eval_pred):\n",
    "    predictions, labels = eval_pred\n",
    "    decoded_preds = tokenizer.batch_decode(predictions, skip_special_tokens=True)\n",
    "    # Replace -100 in the labels as we can't decode them.\n",
    "    labels = np.where(labels != -100, labels, tokenizer.pad_token_id)\n",
    "    decoded_labels = tokenizer.batch_decode(labels, skip_special_tokens=True)\n",
    "    \n",
    "    # Rouge expects a newline after each sentence\n",
    "    decoded_preds = [\"\\n\".join(nltk.sent_tokenize(pred.strip())) for pred in decoded_preds]\n",
    "    decoded_labels = [\"\\n\".join(nltk.sent_tokenize(label.strip())) for label in decoded_labels]\n",
    "    \n",
    "    result = metric.compute(predictions=decoded_preds, references=decoded_labels, use_stemmer=True)\n",
    "    # Extract a few results\n",
    "    result = {key: value.mid.fmeasure * 100 for key, value in result.items()}\n",
    "    \n",
    "    # Add mean generated length\n",
    "    prediction_lens = [np.count_nonzero(pred != tokenizer.pad_token_id) for pred in predictions]\n",
    "    result[\"gen_len\"] = np.mean(prediction_lens)\n",
    "    \n",
    "    return {k: round(v, 4) for k, v in result.items()}"
   ]
  },
  {
   "cell_type": "markdown",
   "metadata": {},
   "source": [
    "Below the trainer gets created and the model, arguments, datasets, tokenizer and metrics function gets assigned to it. The next codeblock calls the training function so the model trains for 20 epochs."
   ]
  },
  {
   "cell_type": "code",
   "execution_count": 26,
   "metadata": {
    "tags": []
   },
   "outputs": [],
   "source": [
    "trainer = Seq2SeqTrainer(\n",
    "    model,\n",
    "    args,\n",
    "    train_dataset=tokenized_datasets[\"train\"],\n",
    "    eval_dataset=tokenized_datasets[\"validation\"],\n",
    "    data_collator=data_collator,\n",
    "    tokenizer=tokenizer,\n",
    "    compute_metrics=compute_metrics\n",
    ")"
   ]
  },
  {
   "cell_type": "code",
   "execution_count": 27,
   "metadata": {
    "tags": []
   },
   "outputs": [
    {
     "name": "stderr",
     "output_type": "stream",
     "text": [
      "/usr/local/lib/python3.8/dist-packages/transformers/optimization.py:391: FutureWarning: This implementation of AdamW is deprecated and will be removed in a future version. Use the PyTorch implementation torch.optim.AdamW instead, or set `no_deprecation_warning=True` to disable this warning\n",
      "  warnings.warn(\n",
      "You're using a T5TokenizerFast tokenizer. Please note that with a fast tokenizer, using the `__call__` method is faster than using a method to encode the text followed by a call to the `pad` method to get a padded encoding.\n"
     ]
    },
    {
     "data": {
      "text/html": [
       "\n",
       "    <div>\n",
       "      \n",
       "      <progress value='102040' max='102040' style='width:300px; height:20px; vertical-align: middle;'></progress>\n",
       "      [102040/102040 17:54:41, Epoch 20/20]\n",
       "    </div>\n",
       "    <table border=\"1\" class=\"dataframe\">\n",
       "  <thead>\n",
       " <tr style=\"text-align: left;\">\n",
       "      <th>Epoch</th>\n",
       "      <th>Training Loss</th>\n",
       "      <th>Validation Loss</th>\n",
       "      <th>Rouge1</th>\n",
       "      <th>Rouge2</th>\n",
       "      <th>Rougel</th>\n",
       "      <th>Rougelsum</th>\n",
       "      <th>Gen Len</th>\n",
       "    </tr>\n",
       "  </thead>\n",
       "  <tbody>\n",
       "    <tr>\n",
       "      <td>1</td>\n",
       "      <td>2.766800</td>\n",
       "      <td>2.525391</td>\n",
       "      <td>27.499600</td>\n",
       "      <td>7.257700</td>\n",
       "      <td>21.570900</td>\n",
       "      <td>21.574800</td>\n",
       "      <td>18.831300</td>\n",
       "    </tr>\n",
       "    <tr>\n",
       "      <td>2</td>\n",
       "      <td>2.682800</td>\n",
       "      <td>2.478370</td>\n",
       "      <td>28.277500</td>\n",
       "      <td>7.745200</td>\n",
       "      <td>22.261200</td>\n",
       "      <td>22.269400</td>\n",
       "      <td>18.835900</td>\n",
       "    </tr>\n",
       "    <tr>\n",
       "      <td>3</td>\n",
       "      <td>2.653300</td>\n",
       "      <td>2.449222</td>\n",
       "      <td>28.617700</td>\n",
       "      <td>7.877500</td>\n",
       "      <td>22.542200</td>\n",
       "      <td>22.545900</td>\n",
       "      <td>18.834400</td>\n",
       "    </tr>\n",
       "    <tr>\n",
       "      <td>4</td>\n",
       "      <td>2.603000</td>\n",
       "      <td>2.429824</td>\n",
       "      <td>29.067200</td>\n",
       "      <td>8.192000</td>\n",
       "      <td>22.932000</td>\n",
       "      <td>22.932400</td>\n",
       "      <td>18.833900</td>\n",
       "    </tr>\n",
       "    <tr>\n",
       "      <td>5</td>\n",
       "      <td>2.579100</td>\n",
       "      <td>2.415305</td>\n",
       "      <td>29.223000</td>\n",
       "      <td>8.420300</td>\n",
       "      <td>23.127200</td>\n",
       "      <td>23.128500</td>\n",
       "      <td>18.802800</td>\n",
       "    </tr>\n",
       "    <tr>\n",
       "      <td>6</td>\n",
       "      <td>2.567700</td>\n",
       "      <td>2.402164</td>\n",
       "      <td>29.407800</td>\n",
       "      <td>8.507100</td>\n",
       "      <td>23.208700</td>\n",
       "      <td>23.204600</td>\n",
       "      <td>18.824700</td>\n",
       "    </tr>\n",
       "    <tr>\n",
       "      <td>7</td>\n",
       "      <td>2.547600</td>\n",
       "      <td>2.391815</td>\n",
       "      <td>29.370200</td>\n",
       "      <td>8.513800</td>\n",
       "      <td>23.231800</td>\n",
       "      <td>23.235800</td>\n",
       "      <td>18.824900</td>\n",
       "    </tr>\n",
       "    <tr>\n",
       "      <td>8</td>\n",
       "      <td>2.534100</td>\n",
       "      <td>2.384655</td>\n",
       "      <td>29.577900</td>\n",
       "      <td>8.667700</td>\n",
       "      <td>23.400300</td>\n",
       "      <td>23.404300</td>\n",
       "      <td>18.814800</td>\n",
       "    </tr>\n",
       "    <tr>\n",
       "      <td>9</td>\n",
       "      <td>2.502500</td>\n",
       "      <td>2.378544</td>\n",
       "      <td>29.764500</td>\n",
       "      <td>8.829700</td>\n",
       "      <td>23.587200</td>\n",
       "      <td>23.593100</td>\n",
       "      <td>18.828100</td>\n",
       "    </tr>\n",
       "    <tr>\n",
       "      <td>10</td>\n",
       "      <td>2.501600</td>\n",
       "      <td>2.372509</td>\n",
       "      <td>29.882400</td>\n",
       "      <td>8.845800</td>\n",
       "      <td>23.615700</td>\n",
       "      <td>23.620000</td>\n",
       "      <td>18.809600</td>\n",
       "    </tr>\n",
       "    <tr>\n",
       "      <td>11</td>\n",
       "      <td>2.485700</td>\n",
       "      <td>2.367257</td>\n",
       "      <td>29.879200</td>\n",
       "      <td>8.829800</td>\n",
       "      <td>23.623200</td>\n",
       "      <td>23.631700</td>\n",
       "      <td>18.827100</td>\n",
       "    </tr>\n",
       "    <tr>\n",
       "      <td>12</td>\n",
       "      <td>2.482400</td>\n",
       "      <td>2.363807</td>\n",
       "      <td>30.034700</td>\n",
       "      <td>8.976900</td>\n",
       "      <td>23.760200</td>\n",
       "      <td>23.764800</td>\n",
       "      <td>18.814600</td>\n",
       "    </tr>\n",
       "    <tr>\n",
       "      <td>13</td>\n",
       "      <td>2.473600</td>\n",
       "      <td>2.360232</td>\n",
       "      <td>30.062900</td>\n",
       "      <td>8.996600</td>\n",
       "      <td>23.823300</td>\n",
       "      <td>23.830300</td>\n",
       "      <td>18.829600</td>\n",
       "    </tr>\n",
       "    <tr>\n",
       "      <td>14</td>\n",
       "      <td>2.449000</td>\n",
       "      <td>2.357325</td>\n",
       "      <td>30.120300</td>\n",
       "      <td>9.000500</td>\n",
       "      <td>23.844700</td>\n",
       "      <td>23.855100</td>\n",
       "      <td>18.841200</td>\n",
       "    </tr>\n",
       "    <tr>\n",
       "      <td>15</td>\n",
       "      <td>2.450200</td>\n",
       "      <td>2.355862</td>\n",
       "      <td>30.188500</td>\n",
       "      <td>9.100600</td>\n",
       "      <td>23.911800</td>\n",
       "      <td>23.917700</td>\n",
       "      <td>18.828500</td>\n",
       "    </tr>\n",
       "    <tr>\n",
       "      <td>16</td>\n",
       "      <td>2.439800</td>\n",
       "      <td>2.353390</td>\n",
       "      <td>30.125600</td>\n",
       "      <td>9.062300</td>\n",
       "      <td>23.874900</td>\n",
       "      <td>23.880200</td>\n",
       "      <td>18.828500</td>\n",
       "    </tr>\n",
       "    <tr>\n",
       "      <td>17</td>\n",
       "      <td>2.437500</td>\n",
       "      <td>2.352341</td>\n",
       "      <td>30.164500</td>\n",
       "      <td>9.047100</td>\n",
       "      <td>23.887500</td>\n",
       "      <td>23.887000</td>\n",
       "      <td>18.834000</td>\n",
       "    </tr>\n",
       "    <tr>\n",
       "      <td>18</td>\n",
       "      <td>2.443000</td>\n",
       "      <td>2.351084</td>\n",
       "      <td>30.235200</td>\n",
       "      <td>9.122000</td>\n",
       "      <td>23.947100</td>\n",
       "      <td>23.945700</td>\n",
       "      <td>18.824700</td>\n",
       "    </tr>\n",
       "    <tr>\n",
       "      <td>19</td>\n",
       "      <td>2.448100</td>\n",
       "      <td>2.350243</td>\n",
       "      <td>30.216000</td>\n",
       "      <td>9.128900</td>\n",
       "      <td>23.941500</td>\n",
       "      <td>23.941300</td>\n",
       "      <td>18.825900</td>\n",
       "    </tr>\n",
       "    <tr>\n",
       "      <td>20</td>\n",
       "      <td>2.422700</td>\n",
       "      <td>2.350139</td>\n",
       "      <td>30.200800</td>\n",
       "      <td>9.099600</td>\n",
       "      <td>23.925800</td>\n",
       "      <td>23.924200</td>\n",
       "      <td>18.827600</td>\n",
       "    </tr>\n",
       "  </tbody>\n",
       "</table><p>"
      ],
      "text/plain": [
       "<IPython.core.display.HTML object>"
      ]
     },
     "metadata": {},
     "output_type": "display_data"
    },
    {
     "data": {
      "text/plain": [
       "TrainOutput(global_step=102040, training_loss=2.531716947806017, metrics={'train_runtime': 64482.7295, 'train_samples_per_second': 12.657, 'train_steps_per_second': 1.582, 'total_flos': 2.0107381115614003e+17, 'train_loss': 2.531716947806017, 'epoch': 20.0})"
      ]
     },
     "execution_count": 27,
     "metadata": {},
     "output_type": "execute_result"
    }
   ],
   "source": [
    "trainer.train()"
   ]
  },
  {
   "cell_type": "code",
   "execution_count": 28,
   "metadata": {
    "tags": []
   },
   "outputs": [],
   "source": [
    "trainer.save_model(\"./manual_save/\")"
   ]
  },
  {
   "cell_type": "markdown",
   "metadata": {},
   "source": [
    "## Visualizations <a name=\"VIS\"></a>"
   ]
  },
  {
   "attachments": {
    "cdaf3e77-f3c7-4e55-8734-abbc95b8072c.png": {
     "image/png": "[encoded data removed]"
    },
    "fc505edc-d921-432d-97de-3d81f0d3e202.png": {
     "image/png": "[encoded data removed]"
    }
   },
   "cell_type": "markdown",
   "metadata": {},
   "source": [
    "![64ee61819bed4477f22325981254558a.png](attachment:fc505edc-d921-432d-97de-3d81f0d3e202.png)\n",
    "![747d9d19780924c62735636a6e91f7af.png](attachment:cdaf3e77-f3c7-4e55-8734-abbc95b8072c.png)\n",
    "\n",
    "Above we can see the different ROUGE metrics go up during training. Implying that the model gets closer to the desired prewritten summary over the epochs"
   ]
  },
  {
   "attachments": {
    "c117fd40-c3f2-411f-a1a1-9168ab546a2d.png": {
     "image/png": "[encoded data removed]"
    }
   },
   "cell_type": "markdown",
   "metadata": {},
   "source": [
    "![5b93bd75efbd9c16d810d205b7a803fb.png](attachment:c117fd40-c3f2-411f-a1a1-9168ab546a2d.png)"
   ]
  },
  {
   "cell_type": "markdown",
   "metadata": {},
   "source": [
    "The less relevant plots above show that the training time per step goes up overtime but not in a smooth way"
   ]
  },
  {
   "cell_type": "markdown",
   "metadata": {},
   "source": [
    "We can conclude, from the table and plots, that the model is succesfully finetuned."
   ]
  },
  {
   "cell_type": "markdown",
   "metadata": {},
   "source": [
    "## Pipeline <a name=\"PIPE\"></a>\n",
    "\n"
   ]
  },
  {
   "cell_type": "code",
   "execution_count": 2,
   "metadata": {
    "tags": []
   },
   "outputs": [],
   "source": [
    "# Loading the finetuned model\n",
    "\n",
    "generator = pipeline(model=\"./t5-small-xsum/runs/manual_save/\", task=\"summarization\", max_length=1024)"
   ]
  },
  {
   "cell_type": "markdown",
   "metadata": {},
   "source": [
    "***"
   ]
  },
  {
   "cell_type": "code",
   "execution_count": 3,
   "metadata": {
    "tags": []
   },
   "outputs": [
    {
     "name": "stderr",
     "output_type": "stream",
     "text": [
      "Token indices sequence length is longer than the specified maximum sequence length for this model (1181 > 512). Running this sequence through the model will result in indexing errors\n"
     ]
    },
    {
     "data": {
      "text/plain": [
       "[{'summary_text': \"Turkey's president Recep Tayyip Erdogan has vowed to restore peace and democracy, but he has vowed to win outright on Sunday.\"}]"
      ]
     },
     "execution_count": 3,
     "metadata": {},
     "output_type": "execute_result"
    }
   ],
   "source": [
    "text = \"\"\"\n",
    "Turkey's all-powerful President Erdogan is in the fight of his life against an opposition that has united against him for Sunday's elections.\n",
    "\n",
    "His main rival Kemal Kilicdaroglu appeared before a throng of supporters on Friday, flanked by allies from across the political spectrum who have come together as never before.\n",
    "\n",
    "As the rain beat down in Ankara, he vowed to restore \"peace and democracy\".\n",
    "\n",
    "The man he wants voters to oust after 20 years - Recep Tayyip Erdogan - said he had kept Turkey standing tall despite many challenges, including the economy with its rampant inflation and February's catastrophic double earthquakes.\n",
    "\n",
    "Both issues have dominated this febrile campaign for both the presidency and parliament.\n",
    "\n",
    "At 74, the opposition leader is often described as soft-spoken, but he gave a powerful speech to an audience that believes this is their best hope so far of reclaiming power from a president who has dramatically increased his own at the expense of parliament.\n",
    "\n",
    "Mr Kilicdaroglu is slightly ahead in the opinion polls and his supporters have dared to dream he might win outright on Sunday, with more than 50% of the vote, rather than face a run-off two weeks later.\n",
    "\n",
    "Firat, one of five million first-time voters, said he was delighted at conservatives and nationalists appearing on the same platform as the head of the centre-left Republican People's Party (CHP).\n",
    "\n",
    "Here was nationalist Meral Aksener, the only female leader in the six-strong alliance, and there was Temel Karamollaoglu, who fronts the pro-Islamist Felicity party.\n",
    "\n",
    "Mr Kilicdaroglu's party is secular to the core, but he has worked hard to reach out to women who wear the headscarf. The six parties have rallied under the slogan Haydi (Come on!) and a campaign song of the same name.\n",
    "\n",
    "\n",
    "Tensions are running so high ahead of the vote that he wore a bullet-proof vest on stage in Ankara for his final rally and at another event earlier on.\n",
    "\n",
    "The race has become as tense as it is pivotal. One of the four candidates for the presidency, Muharrem Ince, pulled out on Thursday, complaining that he had been targeted on social media with deepfake sex videos that had \"manipulated the electorate\".\n",
    "\n",
    "When the main opposition challenger blamed Russia, the Kremlin denied having anything to do with the videos or seeking to interfere in the vote.\n",
    "\n",
    "Mr Erdogan, who has maintained ties with Vladimir Putin, warned his rival: \"If you attack Putin, I will not be ok with that.\"\n",
    "\n",
    "The president was addressing party loyalists in Istanbul, but the night before he was just outside the capital in a city of half a million people that seemed in full support of his AK Party.\n",
    "\n",
    "Orange, blue and white party AKP flags fluttered throughout the centre of Sincan, as locals filled the streets in the hope of catching a glimpse of Mr Erdogan.\n",
    "\n",
    "Supporters chanted party songs as they waited for the president to show on stage in a green jacket. One chorus rang out repeatedly Re-cep Tay-yip Er-do-gaaaan.\n",
    "\n",
    "\"We built schools, universities and hospitals... we changed the face of our cities. We extracted our own natural gas and oil,\" Erdogan told thousands of cheering supporters.\n",
    "\n",
    "His strategy, first as prime minister but then as president, has been to build growth, often through big-ticket construction projects that are visible in many of the big cities, but not so obvious in Sincan.\n",
    "\n",
    "Although his party still commands strong support, he relies on the backing of the nationalist MHP and other smaller groups in his People's Alliance.\n",
    "\n",
    "His greatest support comes mainly from conservative or nationalist Turks, and he has aimed his rhetoric not just at the West, which he accuses of going against him, but at the LGBT community too.\n",
    "\n",
    "\"The AK Party does not allow LGBT people into its neighbourhood, and the MHP does not allow them into the People's Alliance, because we believe in the sanctity of a family.\"\n",
    "\n",
    "These political alliances have become essential under Turkey's political system as a party needs 7% of the national vote to get into parliament, or be part of an alliance that does.\n",
    "\n",
    "Whoever wins the presidency will need to have sufficient support in parliament to back their plans.\n",
    "\n",
    "On the campaign trail in Ankara, centre-left candidate Aysun Palali Koktas said that while the economy and the aftermath of the earthquake were the top two issues of the election, the future of Turkey's democracy and people's rights were just as important.\n",
    "\n",
    "\"When we tweet, we don't want to be frightened, and that's the case especially for young people,\" she said.\n",
    "\n",
    "But, AK Party candidate Zehranur Aydemir, 25, believes young voters are very well treated by the government. \"You can see young people at every level in our party.\"\n",
    "\n",
    "More than 64 million people are expected vote at home and abroad on Sunday.\n",
    "\n",
    "To win outright a candidate will have to secure more than half the vote.\n",
    "\n",
    "If no candidate gets at least 50% plus one vote in the first round, the presidential election will go to a second round on 28 May between the two who received the most votes.\n",
    "\"\"\" # https://www.bbc.com/news/world-europe-65568647\n",
    "\n",
    "generator(text)\n",
    "\n"
   ]
  },
  {
   "cell_type": "markdown",
   "metadata": {},
   "source": [
    "A fairly decent summary although restore might be better replaced with respect or keep.\n",
    "\n",
    "\n",
    "***"
   ]
  },
  {
   "cell_type": "code",
   "execution_count": 4,
   "metadata": {},
   "outputs": [
    {
     "name": "stderr",
     "output_type": "stream",
     "text": [
      "Your max_length is set to 1024, but you input_length is only 209. You might consider decreasing max_length manually, e.g. summarizer('...', max_length=104)\n"
     ]
    },
    {
     "data": {
      "text/plain": [
       "[{'summary_text': \"The flurry of feigning feigns and feigning feigns is a stale tale, but it's a stale tale that's a bit of a stale tale.\"}]"
      ]
     },
     "execution_count": 4,
     "metadata": {},
     "output_type": "execute_result"
    }
   ],
   "source": [
    "generator(\"\"\"Five funny features feel fairly finished for forum fodder, foolish followers falsely fancy, \n",
    "for failing further focus fueling full foresight, fellow fiction fanciers frankly forget fundamental facts framing fruits from frenzied freelancing, \n",
    "for first fragments flowing from frantic freshman fingers frequently fall flat, forming forced, flawed fakeries feigning fluency, faded facsimiles fractionally \n",
    "fitting for fatuous Facebook flapdoodle, familiar formulaic fragments famously fouling friends' feeds; fine, for furthermore, fascinatingly, \n",
    "first forays facing far-flung fringe frontiers, finding faith's fortitude ferociously fighting formidable foes—fear, frustration, flaky functioning, \n",
    "foot fungus—forge foundations for future feats, figurative furniture for fortune's foyer, faintly favoring fantastic fairytale fates, fervently foremost finally finishing forever.\"\"\")"
   ]
  },
  {
   "cell_type": "markdown",
   "metadata": {},
   "source": [
    "Doesn't continue the tautogram sadly enough.\n",
    "\n",
    "***"
   ]
  },
  {
   "cell_type": "code",
   "execution_count": 5,
   "metadata": {},
   "outputs": [
    {
     "name": "stderr",
     "output_type": "stream",
     "text": [
      "Your max_length is set to 1024, but you input_length is only 443. You might consider decreasing max_length manually, e.g. summarizer('...', max_length=221)\n"
     ]
    },
    {
     "data": {
      "text/plain": [
       "[{'summary_text': \"The UK's wind power has been a record high in the last three months of this year, according to a new report. -\"}]"
      ]
     },
     "execution_count": 5,
     "metadata": {},
     "output_type": "execute_result"
    }
   ],
   "source": [
    "text = \"\"\"Wind turbines have generated more electricity than gas for the first time in the UK.\n",
    "\n",
    "In the first three months of this year a third of the countrys electricity came from wind farms, research from Imperial College London has shown.\n",
    "\n",
    "National Grid has also confirmed that April saw a record period of solar energy generation.\n",
    "\n",
    "By 2035 the UK aims for all of its electricity to have net zero emissions.\n",
    "\n",
    "\"There are still many hurdles to reaching a completely fossil fuel-free grid, but wind out-supplying gas for the first time is a genuine milestone event,\" said Iain Staffell, energy researcher at Imperial College and lead author of the report.\n",
    "\n",
    "The majority of the UK's wind power has come from offshore wind farms. Installing new onshore wind turbines has effectively been banned since 2015 in England.\n",
    "\n",
    "Under current planning rules, companies can only apply to build onshore wind turbines on land specifically identified for development in the land-use plans drawn up by local councils. Prime Minister Rishi Sunak agreed in December to relax these planning restrictions to speed up development.\n",
    "\n",
    "Scientists say switching to renewable power is crucial to curb the impacts of climate change, which are already being felt, including in the UK, which last year recorded its hottest year since records began.\n",
    "\n",
    "Solar and wind have seen significant growth in the UK. In the first quarter of 2023, 42% of the UK's electricity came from renewable energy, with 33% coming from fossil fuels like gas and coal.\n",
    "\n",
    "But BBC research revealed on Thursday that billions of pounds' worth of green energy projects are stuck on hold due to delays with getting connections to the grid.\n",
    "\n",
    "Some new solar and wind sites are waiting up to 10 to 15 years to be connected because of a lack of capacity in the electricity system.\n",
    "\n",
    "And electricity only accounts for 18% of the UK's total power needs. There are many demands for energy which electricity is not meeting, such as heating our homes, manufacturing and transport.\n",
    "\n",
    "Currently the majority of UK homes use gas for their heating - the government is seeking to move households away from gas boilers and on to heat pumps which use electricity.\n",
    "\"\"\" #https://www.bbc.com/news/science-environment-65557469\n",
    "          \n",
    "generator(text)"
   ]
  },
  {
   "cell_type": "markdown",
   "metadata": {},
   "source": [
    "I feel like the first sentence of the article should be included in the summary.\n",
    "\n",
    "***"
   ]
  },
  {
   "cell_type": "code",
   "execution_count": 6,
   "metadata": {
    "tags": []
   },
   "outputs": [
    {
     "name": "stderr",
     "output_type": "stream",
     "text": [
      "Your max_length is set to 1024, but you input_length is only 9. You might consider decreasing max_length manually, e.g. summarizer('...', max_length=4)\n"
     ]
    },
    {
     "data": {
      "text/plain": [
       "[{'summary_text': 'A symphony of a symphony has been rediscovered by the British Museum of Art. '}]"
      ]
     },
     "execution_count": 6,
     "metadata": {},
     "output_type": "execute_result"
    }
   ],
   "source": [
    "generator(\"Lorem ipsum\")"
   ]
  },
  {
   "cell_type": "markdown",
   "metadata": {},
   "source": [
    "Getting a very small piece of text makes the model generate (garbage) text, even though this is not its task \n",
    "\n",
    "..."
   ]
  },
  {
   "cell_type": "markdown",
   "metadata": {},
   "source": [
    "***\n",
    "\n",
    "## Issues <a name=\"ISS\"></a>"
   ]
  },
  {
   "attachments": {
    "36d7a79d-eb39-48ab-a6dc-94d554e8431b.png": {
     "image/png": "[encoded data removed]"
    },
    "e53e27cf-1d64-4fa6-8ac6-fe7b103e7b0a.png": {
     "image/png": "[encoded data removed]"
    }
   },
   "cell_type": "markdown",
   "metadata": {},
   "source": [
    "Training time, as can be seen in the screenshot below using the whole dataset made for a very long training time over one epoch. The found solution was to use shards making the dataset significantly smaller.\n",
    "\n",
    "![84c35061bc2cb671da439a964dd53c98.png](attachment:36d7a79d-eb39-48ab-a6dc-94d554e8431b.png)\n",
    "\n",
    "***\n",
    "\n",
    "Memory on GPU (8GB), while trying to improve the training time I also tried larger batchsizes, this leads to having memory issues on my GPU (as can be seen below). The solution was to keep the batchsizes as is and accept the longer training time (and use shards).\n",
    "\n",
    "![f48d3a5b74d7c90910571aa984c732af.png](attachment:e53e27cf-1d64-4fa6-8ac6-fe7b103e7b0a.png)"
   ]
  },
  {
   "cell_type": "markdown",
   "metadata": {},
   "source": [
    "***"
   ]
  },
  {
   "cell_type": "markdown",
   "metadata": {},
   "source": [
    "## Sources <a name=\"SRC\"></a>\n",
    "\n",
    "### Summarization:\n",
    "\n",
    "[Metrics-Huggingface](https://huggingface.co/docs/datasets/package_reference/main_classes#datasets.Metric)\n",
    "\n",
    "[Rouge](https://www.freecodecamp.org/news/what-is-rouge-and-how-it-works-for-evaluation-of-summaries-e059fb8ac840/)\n",
    "\n",
    "https://github.com/huggingface/transformers/blob/v4.29.1/src/transformers/training_args_seq2seq.py#L30\n",
    "\n",
    "https://pytorch.org/docs/stable/tensorboard.html\n",
    "\n",
    "https://huggingface.co/docs/datasets/index\n",
    "\n",
    "https://huggingface.co/docs/datasets/process\n",
    "\n",
    "https://huggingface.co/docs/datasets/v2.12.0/en/package_reference/main_classes#datasets.Dataset\n",
    "\n",
    "https://github.com/huggingface/transformers\n",
    "\n",
    "https://huggingface.co/transformers/v3.0.2/main_classes/pipelines.html\n",
    "\n",
    "https://www.youtube.com/watch?v=q1TNpbPq3vY\n",
    "\n",
    "https://www.youtube.com/watch?v=TsfLm5iiYb4\n",
    "\n",
    "https://www.youtube.com/watch?v=QEaBAZQCtwE\n",
    "\n",
    "https://www.youtube.com/watch?v=TsfLm5iiYb4\n",
    "\n",
    "https://www.youtube.com/watch?v=Yo5Hw8aV3vY\n",
    "\n",
    "#### Other:\n",
    "\n",
    "[SNS docs heatmap](https://seaborn.pydata.org/generated/seaborn.heatmap.html)\n",
    "\n",
    "[Heatmap](https://www.youtube.com/watch?v=URbyDKfQT0Y)\n",
    "\n",
    "[Mirrored images matplot](https://matplotlib.org/stable/tutorials/intermediate/imshow_extent.html)\n",
    "\n",
    "[Rotate images matplot](https://stackoverflow.com/questions/31401812/matplotlib-rotate-image-file-by-x-degrees)\n",
    "\n",
    "[EMNIST dataset](https://www.tensorflow.org/datasets/catalog/emnist)\n",
    "\n",
    "[EMNIST research paper](https://arxiv.org/pdf/1702.05373v2.pdf)\n",
    "\n",
    "[TensorFlow documentation, MNIST classification](https://www.tensorflow.org/tutorials/keras/classification)\n",
    "\n",
    "[Tensorflow docs; loading Fasion_MNIST](https://www.tensorflow.org/api_docs/python/tf/keras/datasets/fashion_mnist/load_data)\n",
    "\n",
    "[Numpy reshape](https://numpy.org/doc/stable/reference/generated/numpy.reshape.html)\n",
    "\n"
   ]
  }
 ],
 "metadata": {
  "kernelspec": {
   "display_name": "Python 3 (ipykernel)",
   "language": "python",
   "name": "python3"
  },
  "language_info": {
   "codemirror_mode": {
    "name": "ipython",
    "version": 3
   },
   "file_extension": ".py",
   "mimetype": "text/x-python",
   "name": "python",
   "nbconvert_exporter": "python",
   "pygments_lexer": "ipython3",
   "version": "3.8.10"
  },
  "vscode": {
   "interpreter": {
    "hash": "81794d4967e6c3204c66dcd87b604927b115b27c00565d3d43f05ba2f3a2cb0d"
   }
  }
 },
 "nbformat": 4,
 "nbformat_minor": 4
}
